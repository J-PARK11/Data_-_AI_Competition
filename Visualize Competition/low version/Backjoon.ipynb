{
 "cells": [
  {
   "cell_type": "code",
   "execution_count": 11,
   "id": "de413ee8",
   "metadata": {},
   "outputs": [
    {
     "name": "stdout",
     "output_type": "stream",
     "text": [
      "14\n",
      "2/4\n"
     ]
    }
   ],
   "source": [
    "#8.기본수학: 분수찾기-1193번\n",
    "import math\n",
    "x=int(input())\n",
    "n=(2*x+1/4)**(1/2)-1/2\n",
    "n=math.ceil(n)\n",
    "top=int(n*(n+1)/2)\n",
    "if n%2==0:\n",
    "    d=top-x\n",
    "    ja=n\n",
    "    mo=1\n",
    "    for k in range(d):\n",
    "        ja=ja-1\n",
    "        mo=mo+1\n",
    "else:\n",
    "    d=top-x\n",
    "    ja=1\n",
    "    mo=n\n",
    "    for k in range(d):\n",
    "        ja=ja+1\n",
    "        mo=mo-1\n",
    "print(\"{0}/{1}\".format(ja,mo))\n",
    "\n",
    "    "
   ]
  },
  {
   "cell_type": "code",
   "execution_count": 30,
   "id": "4b34ab59",
   "metadata": {},
   "outputs": [
    {
     "name": "stdout",
     "output_type": "stream",
     "text": [
      "100 99 1000000000\n",
      "999999901\n"
     ]
    }
   ],
   "source": [
    "#8.기본수학: 달팽이는 올라가고 싶다-2869번\n",
    "\n",
    "# A,B,V=map(int,input().split(' '))\n",
    "# S=0\n",
    "# D=0\n",
    "# while True:\n",
    "#     D=D+1\n",
    "#     S=S+A\n",
    "#     if S>=V:\n",
    "#         break\n",
    "#     S=S-B\n",
    "# print(D)\n",
    "\n",
    "import math\n",
    "A,B,V = map(int,input().split(' '))\n",
    "days=(V-A)/(A-B)\n",
    "days=days+1\n",
    "print(math.ceil(days))"
   ]
  },
  {
   "cell_type": "code",
   "execution_count": 44,
   "id": "f3b0a6be",
   "metadata": {},
   "outputs": [
    {
     "name": "stdout",
     "output_type": "stream",
     "text": [
      "1\n",
      "2 2 4\n",
      "202\n"
     ]
    }
   ],
   "source": [
    "## 8.기본수학: ACM 호텔-10250번\n",
    "\n",
    "T=int(input())\n",
    "list=[]\n",
    "for i in range(T):\n",
    "    H,W,N=map(int,input().split(' '))\n",
    "    a=N//H + 1\n",
    "    b=N%H\n",
    "    if b==0:\n",
    "        b=H\n",
    "        a=a-1\n",
    "    list.append(b*100+a)\n",
    "for i in range(T):\n",
    "    print(list[i])\n"
   ]
  },
  {
   "cell_type": "code",
   "execution_count": 111,
   "id": "9ef83377",
   "metadata": {},
   "outputs": [
    {
     "name": "stdout",
     "output_type": "stream",
     "text": [
      "2\n",
      "1\n",
      "3\n",
      "6\n",
      "2\n",
      "3\n",
      "10\n"
     ]
    }
   ],
   "source": [
    "#8.기본수학: 부녀회장이 될테야-2775번\n",
    "\n",
    "\n",
    "# 1 4 10 20 35 56\n",
    "# 1 3 6 10 15 21\n",
    "# 1 2 3 4 5 6\n",
    "T=int(input())\n",
    "list=[]\n",
    "for _ in range(T):\n",
    "    k=int(input())\n",
    "    n=int(input())\n",
    "    list=[u for u in range(1,n+1)]\n",
    "    for i in range(k):\n",
    "        for j in range(1,n):\n",
    "            list[j]=list[j]+list[j-1]\n",
    "    print(list[-1])\n",
    "\n",
    "            "
   ]
  },
  {
   "cell_type": "code",
   "execution_count": 69,
   "id": "6e8440ed",
   "metadata": {},
   "outputs": [
    {
     "name": "stdout",
     "output_type": "stream",
     "text": [
      "11\n",
      "3\n"
     ]
    }
   ],
   "source": [
    "# 8.기본수학: 설탕배달 - 2839번\n",
    "\n",
    "N=int(input())\n",
    "share_5 = N//5\n",
    "share_3 = N//3\n",
    "a=0\n",
    "b=0\n",
    "N=N+3\n",
    "for i in range(0,share_3+1):\n",
    "    N=N-3\n",
    "    if N%5==0:\n",
    "        a=i\n",
    "        b=N//5\n",
    "        break\n",
    "r=a+b\n",
    "if r==0:\n",
    "    r=-1\n",
    "print(r)"
   ]
  },
  {
   "cell_type": "code",
   "execution_count": 71,
   "id": "7e945b56",
   "metadata": {},
   "outputs": [
    {
     "name": "stdout",
     "output_type": "stream",
     "text": [
      "123123123 123123123\n",
      "246246246\n"
     ]
    }
   ],
   "source": [
    "# 8.기본수학: 큰수A+B - 10757번\n",
    "\n",
    "A,B=map(int,input().split(' '))\n",
    "print(A+B)"
   ]
  },
  {
   "cell_type": "code",
   "execution_count": 91,
   "id": "f507f707",
   "metadata": {},
   "outputs": [
    {
     "name": "stdout",
     "output_type": "stream",
     "text": [
      "3\n",
      "0 3\n",
      "1 5\n",
      "45 50\n",
      "3\n",
      "3\n",
      "4\n"
     ]
    }
   ],
   "source": [
    "# 8.기본수학: Fly me to the Alpha Centauri - 1011번\n",
    "\n",
    "'''\n",
    "import math\n",
    "T=int(input())\n",
    "list=[]\n",
    "for i in range(T):\n",
    "    x,y=map(int,input().split(' '))\n",
    "    distance = y-x\n",
    "    distance=distance-1\n",
    "    n=(2*distance+(1/4))**(1/2)-(1/2)\n",
    "    list.append(math.ceil(n+1))\n",
    "for i in range(T):\n",
    "    print(list[i])'''    \n",
    "t = int(input())\n",
    "\n",
    "for _ in range(t):\n",
    "    x, y = map(int,input().split())\n",
    "    distance = y - x\n",
    "    count = 0  # 이동 횟수\n",
    "    move = 1  # count별 이동 가능한 거리\n",
    "    move_plus = 0  # 이동한 거리의 합\n",
    "    while move_plus < distance :\n",
    "        count += 1\n",
    "        move_plus += move  # count 수에 해당하는 move를 더함\n",
    "        if count % 2 == 0 :  # count가 2의 배수일 때, \n",
    "            move += 1  \n",
    "    print(count)"
   ]
  },
  {
   "cell_type": "code",
   "execution_count": null,
   "id": "e71cb75c",
   "metadata": {},
   "outputs": [],
   "source": []
  }
 ],
 "metadata": {
  "kernelspec": {
   "display_name": "Python 3",
   "language": "python",
   "name": "python3"
  },
  "language_info": {
   "codemirror_mode": {
    "name": "ipython",
    "version": 3
   },
   "file_extension": ".py",
   "mimetype": "text/x-python",
   "name": "python",
   "nbconvert_exporter": "python",
   "pygments_lexer": "ipython3",
   "version": "3.8.8"
  }
 },
 "nbformat": 4,
 "nbformat_minor": 5
}
