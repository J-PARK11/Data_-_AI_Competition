{
 "cells": [
  {
   "cell_type": "code",
   "execution_count": 24,
   "id": "fc49c9bd",
   "metadata": {},
   "outputs": [],
   "source": [
    "# import prompt\n",
    "import requests\n",
    "import json\n",
    "import xmltodict\n",
    "import time"
   ]
  },
  {
   "cell_type": "code",
   "execution_count": 11,
   "id": "7a2d08dc",
   "metadata": {},
   "outputs": [
    {
     "name": "stdout",
     "output_type": "stream",
     "text": [
      "<class 'str'>\n",
      "{\n",
      "   \"거주지\": \"서울\",\n",
      "   \"나이\": 25,\n",
      "   \"신체정보\": {\n",
      "      \"몸무게\": 71.2,\n",
      "      \"키\": 175.4\n",
      "   },\n",
      "   \"이름\": \"홍길동\",\n",
      "   \"취미\": [\n",
      "      \"등산\",\n",
      "      \"자전거타기\",\n",
      "      \"독서\"\n",
      "   ]\n",
      "}\n"
     ]
    },
    {
     "data": {
      "text/plain": [
       "71.2"
      ]
     },
     "execution_count": 11,
     "metadata": {},
     "output_type": "execute_result"
    }
   ],
   "source": [
    "python_dict={\"거주지\":\"서울\",\n",
    "             \"나이\":25,\n",
    "             \"신체정보\":{\"몸무게\":71.2,\"키\":175.4},\n",
    "             \"이름\":\"홍길동\",\n",
    "             \"취미\":[\"등산\",\"자전거타기\",\"독서\"],\n",
    "}\n",
    "json_data=json.dumps(python_dict,indent=3,sort_keys=True,ensure_ascii=False)\n",
    "print(type(json_data))\n",
    "print(json_data)\n",
    "json_dict=json.loads(json_data)\n",
    "json_dict[\"신체정보\"][\"몸무게\"]"
   ]
  },
  {
   "cell_type": "code",
   "execution_count": 8,
   "id": "4916066f",
   "metadata": {},
   "outputs": [
    {
     "name": "stdout",
     "output_type": "stream",
     "text": [
      "<?xml version=\"1.0\",encoding=\"UTF-8\"?>\n",
      "<사용자정보>\n",
      "    <이름>홍길동</이름>\n",
      "    <나이>25</나이>\n",
      "    <거주지>서울</거주지>\n",
      "    <신체정보>\n",
      "        <키 unit=\"cm\">175.4</키>\n",
      "        <몸무게 unit=\"kg\">71.2</몸무게>\n",
      "    </신체정보>\n",
      "    <취미>등산</취미>\n",
      "    <취미>자전거타기</취미>\n",
      "    <취미>독서</취미>\n",
      "</사용자정보>\n",
      "\n"
     ]
    }
   ],
   "source": [
    "xml_data=\"\"\"<?xml version=\"1.0\",encoding=\"UTF-8\"?>\n",
    "<사용자정보>\n",
    "    <이름>홍길동</이름>\n",
    "    <나이>25</나이>\n",
    "    <거주지>서울</거주지>\n",
    "    <신체정보>\n",
    "        <키 unit=\"cm\">175.4</키>\n",
    "        <몸무게 unit=\"kg\">71.2</몸무게>\n",
    "    </신체정보>\n",
    "    <취미>등산</취미>\n",
    "    <취미>자전거타기</취미>\n",
    "    <취미>독서</취미>\n",
    "</사용자정보>\n",
    "\"\"\"\n",
    "print(xml_data)\n",
    "#dict_data=xmltodict.parse(xml_data,xml_attribs=True)\n",
    "#print(dict_data)"
   ]
  },
  {
   "cell_type": "code",
   "execution_count": 11,
   "id": "b41fe248",
   "metadata": {},
   "outputs": [
    {
     "name": "stdout",
     "output_type": "stream",
     "text": [
      "https://api.github.com/events\n",
      "https://api.github.com/user\n",
      "https://api.github.com/emails\n"
     ]
    }
   ],
   "source": [
    "main_url='https://api.github.com/'\n",
    "sub_urls=[\"events\",\"user\",\"emails\"]\n",
    "for sub_url in sub_urls:\n",
    "    url=main_url+sub_url\n",
    "    r=requests.get(url)\n",
    "    print(r.url)"
   ]
  },
  {
   "cell_type": "code",
   "execution_count": 17,
   "id": "b2e43648",
   "metadata": {},
   "outputs": [
    {
     "name": "stdout",
     "output_type": "stream",
     "text": [
      "{\"message\": \"success\", \"timestamp\": 1626585775, \"iss_position\": {\"longitude\": \"17.1148\", \"latitude\": \"-27.9536\"}}\n",
      "{'message': 'success', 'timestamp': 1626585775, 'iss_position': {'longitude': '17.1148', 'latitude': '-27.9536'}}\n"
     ]
    },
    {
     "data": {
      "text/plain": [
       "dict"
      ]
     },
     "execution_count": 17,
     "metadata": {},
     "output_type": "execute_result"
    }
   ],
   "source": [
    "url=\"http://api.open-notify.org/iss-now.json\"\n",
    "r=requests.get(url)\n",
    "print(r.text)\n",
    "json_to_dict=json.loads(r.text)\n",
    "print(json_to_dict)\n",
    "type(json_to_dict)"
   ]
  },
  {
   "cell_type": "code",
   "execution_count": 21,
   "id": "ef07569d",
   "metadata": {},
   "outputs": [
    {
     "data": {
      "text/plain": [
       "'22.0183'"
      ]
     },
     "execution_count": 21,
     "metadata": {},
     "output_type": "execute_result"
    }
   ],
   "source": [
    "r=requests.get(url).json()\n",
    "r[\"iss_position\"][\"longitude\"]"
   ]
  },
  {
   "cell_type": "code",
   "execution_count": 25,
   "id": "d7fb055b",
   "metadata": {},
   "outputs": [
    {
     "name": "stdout",
     "output_type": "stream",
     "text": [
      "{'longitude': '32.8627', 'latitude': '-40.0936'}\n",
      "{'longitude': '33.5095', 'latitude': '-40.4691'}\n",
      "{'longitude': '34.1969', 'latitude': '-40.8589'}\n",
      "{'longitude': '34.8596', 'latitude': '-41.2257'}\n",
      "{'longitude': '35.5639', 'latitude': '-41.6062'}\n"
     ]
    }
   ],
   "source": [
    "def ISS_Position(api_url):\n",
    "    r=requests.get(api_url).json()\n",
    "    return r[\"iss_position\"]\n",
    "for k in range(5):\n",
    "    i=ISS_Position(url)\n",
    "    print(i)\n",
    "    time.sleep(10)"
   ]
  },
  {
   "cell_type": "code",
   "execution_count": 32,
   "id": "751fd98a",
   "metadata": {},
   "outputs": [
    {
     "data": {
      "text/plain": [
       "'Seoul'"
      ]
     },
     "execution_count": 32,
     "metadata": {},
     "output_type": "execute_result"
    }
   ],
   "source": [
    "url_temp=\"https://restcountries.eu/rest/v1/name/\"\n",
    "countries=\"South Korea\"\n",
    "url=url_temp+countries\n",
    "r=requests.get(url).json()\n",
    "r[0]['capital']"
   ]
  },
  {
   "cell_type": "code",
   "execution_count": 33,
   "id": "653e3f9f",
   "metadata": {},
   "outputs": [
    {
     "name": "stdout",
     "output_type": "stream",
     "text": [
      "*South Korea: Seoul\n",
      "*United States of America: Washington, D.C.\n",
      "*United Kingdom: London\n",
      "*France: Paris\n",
      "*Germany: Berlin\n"
     ]
    }
   ],
   "source": [
    "countries=['South Korea','United States of America','United Kingdom','France','Germany']\n",
    "def country_to_capital(main_url,country):\n",
    "    url=main_url+country\n",
    "    r=requests.get(url).json()\n",
    "    return r[0][\"capital\"]\n",
    "for country in countries:\n",
    "    i=country_to_capital(url_temp,country)\n",
    "    print(\"*{0}: {1}\".format(country,i))"
   ]
  },
  {
   "cell_type": "code",
   "execution_count": null,
   "id": "f5107f79",
   "metadata": {},
   "outputs": [],
   "source": []
  },
  {
   "cell_type": "code",
   "execution_count": null,
   "id": "9e9b7dac",
   "metadata": {},
   "outputs": [],
   "source": []
  },
  {
   "cell_type": "code",
   "execution_count": null,
   "id": "696c4571",
   "metadata": {},
   "outputs": [],
   "source": []
  },
  {
   "cell_type": "code",
   "execution_count": null,
   "id": "2479ebd2",
   "metadata": {},
   "outputs": [],
   "source": []
  },
  {
   "cell_type": "code",
   "execution_count": null,
   "id": "c78fcff3",
   "metadata": {},
   "outputs": [],
   "source": []
  },
  {
   "cell_type": "code",
   "execution_count": null,
   "id": "388c409e",
   "metadata": {},
   "outputs": [],
   "source": []
  },
  {
   "cell_type": "code",
   "execution_count": null,
   "id": "51203caf",
   "metadata": {},
   "outputs": [],
   "source": []
  },
  {
   "cell_type": "code",
   "execution_count": null,
   "id": "8b69ec40",
   "metadata": {},
   "outputs": [],
   "source": []
  }
 ],
 "metadata": {
  "kernelspec": {
   "display_name": "Python 3",
   "language": "python",
   "name": "python3"
  },
  "language_info": {
   "codemirror_mode": {
    "name": "ipython",
    "version": 3
   },
   "file_extension": ".py",
   "mimetype": "text/x-python",
   "name": "python",
   "nbconvert_exporter": "python",
   "pygments_lexer": "ipython3",
   "version": "3.8.8"
  }
 },
 "nbformat": 4,
 "nbformat_minor": 5
}
