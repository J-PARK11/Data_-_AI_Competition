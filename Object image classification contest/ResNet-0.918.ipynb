{
 "cells": [
  {
   "cell_type": "markdown",
   "id": "850531d5",
   "metadata": {
    "id": "850531d5"
   },
   "source": [
    "# Main Code"
   ]
  },
  {
   "cell_type": "markdown",
   "id": "3ccd51b8",
   "metadata": {
    "id": "3ccd51b8"
   },
   "source": [
    "## 0. Setting"
   ]
  },
  {
   "cell_type": "code",
   "execution_count": 2,
   "id": "3de93074",
   "metadata": {
    "colab": {
     "base_uri": "https://localhost:8080/"
    },
    "executionInfo": {
     "elapsed": 3532,
     "status": "ok",
     "timestamp": 1646373121472,
     "user": {
      "displayName": "박준혁",
      "photoUrl": "https://lh3.googleusercontent.com/a/default-user=s64",
      "userId": "13635420758066693274"
     },
     "user_tz": -540
    },
    "id": "3de93074",
    "outputId": "0dfb6bd0-d143-4785-dab5-ef3c585b4a17"
   },
   "outputs": [
    {
     "name": "stdout",
     "output_type": "stream",
     "text": [
      "Drive already mounted at /content/drive; to attempt to forcibly remount, call drive.mount(\"/content/drive\", force_remount=True).\n"
     ]
    }
   ],
   "source": [
    "from google.colab import drive\n",
    "drive.mount('/content/drive')"
   ]
  },
  {
   "cell_type": "code",
   "execution_count": 3,
   "id": "692316a7",
   "metadata": {
    "colab": {
     "base_uri": "https://localhost:8080/"
    },
    "executionInfo": {
     "elapsed": 13,
     "status": "ok",
     "timestamp": 1646373121472,
     "user": {
      "displayName": "박준혁",
      "photoUrl": "https://lh3.googleusercontent.com/a/default-user=s64",
      "userId": "13635420758066693274"
     },
     "user_tz": -540
    },
    "id": "692316a7",
    "outputId": "7aaf2262-0d8e-423d-9651-aff28abc7c1f"
   },
   "outputs": [
    {
     "name": "stdout",
     "output_type": "stream",
     "text": [
      "/content/drive/MyDrive/object_image\n"
     ]
    }
   ],
   "source": [
    "%cd '/content/drive/MyDrive/object_image'"
   ]
  },
  {
   "cell_type": "code",
   "execution_count": 4,
   "id": "523d6a62",
   "metadata": {
    "colab": {
     "base_uri": "https://localhost:8080/"
    },
    "executionInfo": {
     "elapsed": 13,
     "status": "ok",
     "timestamp": 1646373121473,
     "user": {
      "displayName": "박준혁",
      "photoUrl": "https://lh3.googleusercontent.com/a/default-user=s64",
      "userId": "13635420758066693274"
     },
     "user_tz": -540
    },
    "id": "523d6a62",
    "outputId": "a3d895b5-2df7-4b66-c19d-ae55e97a1ebf"
   },
   "outputs": [
    {
     "name": "stdout",
     "output_type": "stream",
     "text": [
      "data  data.tar.gz  Main_Code.ipynb\n"
     ]
    }
   ],
   "source": [
    "!ls"
   ]
  },
  {
   "cell_type": "code",
   "execution_count": 5,
   "id": "ca386fab",
   "metadata": {
    "executionInfo": {
     "elapsed": 6,
     "status": "ok",
     "timestamp": 1646373121473,
     "user": {
      "displayName": "박준혁",
      "photoUrl": "https://lh3.googleusercontent.com/a/default-user=s64",
      "userId": "13635420758066693274"
     },
     "user_tz": -540
    },
    "id": "ca386fab"
   },
   "outputs": [],
   "source": [
    "#!tar -zcvf data.tar.gz data  "
   ]
  },
  {
   "cell_type": "code",
   "execution_count": 6,
   "id": "ET_b_zLjtCDf",
   "metadata": {
    "executionInfo": {
     "elapsed": 6,
     "status": "ok",
     "timestamp": 1646373121474,
     "user": {
      "displayName": "박준혁",
      "photoUrl": "https://lh3.googleusercontent.com/a/default-user=s64",
      "userId": "13635420758066693274"
     },
     "user_tz": -540
    },
    "id": "ET_b_zLjtCDf"
   },
   "outputs": [],
   "source": [
    "# !tar -xzf data.tar.gz"
   ]
  },
  {
   "cell_type": "markdown",
   "id": "9dbff312",
   "metadata": {
    "id": "9dbff312"
   },
   "source": [
    "## 1. Data Load"
   ]
  },
  {
   "cell_type": "code",
   "execution_count": 7,
   "id": "d85f3cd4",
   "metadata": {
    "executionInfo": {
     "elapsed": 8027,
     "status": "ok",
     "timestamp": 1646373129495,
     "user": {
      "displayName": "박준혁",
      "photoUrl": "https://lh3.googleusercontent.com/a/default-user=s64",
      "userId": "13635420758066693274"
     },
     "user_tz": -540
    },
    "id": "d85f3cd4"
   },
   "outputs": [],
   "source": [
    "from glob import glob\n",
    "import os\n",
    "import PIL\n",
    "PIL.Image\n",
    "\n",
    "import numpy as np\n",
    "import pandas as pd\n",
    "import matplotlib\n",
    "import matplotlib.pyplot as plt\n",
    "import seaborn as sns\n",
    "\n",
    "import warnings\n",
    "warnings.filterwarnings(action='ignore') # 경고 메세지 숨김\n",
    "os.environ[\"CUDA_VISIBLE_DEVICES\"]=\"0\" # GPU 할당\n",
    "\n",
    "from sklearn.preprocessing import LabelEncoder\n",
    "from sklearn.model_selection import train_test_split\n",
    "\n",
    "import tensorflow as tf\n",
    "from tensorflow import keras\n",
    "from tensorflow.keras.preprocessing.image import ImageDataGenerator\n",
    "from keras.models import Sequential\n",
    "from keras import layers, models\n",
    "from keras.layers import Dense, Dropout, BatchNormalization\n",
    "from tensorflow.keras.callbacks import ModelCheckpoint, EarlyStopping\n",
    "\n",
    "from functools import partial"
   ]
  },
  {
   "cell_type": "markdown",
   "id": "c9733bdb",
   "metadata": {
    "id": "c9733bdb"
   },
   "source": [
    "### 함수 및 상수 정의"
   ]
  },
  {
   "cell_type": "code",
   "execution_count": 8,
   "id": "ce193f9b",
   "metadata": {
    "executionInfo": {
     "elapsed": 16,
     "status": "ok",
     "timestamp": 1646373129496,
     "user": {
      "displayName": "박준혁",
      "photoUrl": "https://lh3.googleusercontent.com/a/default-user=s64",
      "userId": "13635420758066693274"
     },
     "user_tz": -540
    },
    "id": "ce193f9b"
   },
   "outputs": [],
   "source": [
    "# Data Load fuction Def\n",
    "def load_CIFAR10(path):\n",
    "    \n",
    "    path = path\n",
    "    images = []\n",
    "    labels = []\n",
    "    for filename in glob(path +\"*\"):\n",
    "        for img in glob(filename + \"/*.jpg\"):\n",
    "            an_img = PIL.Image.open(img) #read img\n",
    "            img_array = np.array(an_img) #img to array\n",
    "            images.append(img_array) #append array to training_images\n",
    "            label = filename.split('/')[2] #get label\n",
    "            labels.append(label) #append label\n",
    "    images = np.array(images)\n",
    "    labels = np.array(labels)\n",
    "\n",
    "    le = LabelEncoder()\n",
    "    labels= le.fit_transform(labels)\n",
    "    labels = labels.reshape(-1,1)\n",
    "    \n",
    "    return images, labels, le\n",
    "\n",
    "#create test dataset\n",
    "def load_test(path):\n",
    "    test_images = []\n",
    "    test_idx = []\n",
    "\n",
    "    flist = sorted(glob(path + '*.jpg'))\n",
    "\n",
    "    for filename in flist:\n",
    "        an_img = PIL.Image.open(filename) #read img\n",
    "        img_array = np.array(an_img) #img to array\n",
    "        test_images.append(img_array) #append array to training_images \n",
    "        \n",
    "        label = filename.split('/')[2] #get id \n",
    "        test_idx.append(label) #append id\n",
    "        \n",
    "    test_images = np.array(test_images)\n",
    "\n",
    "    print(test_images.shape)\n",
    "    print(test_idx[0:5])\n",
    "    return test_images\n",
    "\n",
    "# Define image's format\n",
    "class Default:\n",
    "    imgR     = 32\n",
    "    imgC     = 32\n",
    "    channel  = 3\n",
    "    imgCount = 5000\n",
    "    \n",
    "# Visualize Image\n",
    "def plot_images(nRow,nCol,img):\n",
    "    fig = plt.figure()\n",
    "    fig,ax = plt.subplots(nRow,nCol,figsize=(nCol,nRow))\n",
    "    for i in range(nRow):\n",
    "        for j in range(nCol):\n",
    "            if nRow <= 1: axis = ax[j]\n",
    "            else:         axis = ax[i,j]\n",
    "            axis.get_xaxis().set_visible(False)\n",
    "            axis.get_yaxis().set_visible(False)\n",
    "            axis.imshow(img[i*nCol+j])"
   ]
  },
  {
   "cell_type": "code",
   "execution_count": 9,
   "id": "21ed46b5",
   "metadata": {
    "executionInfo": {
     "elapsed": 16,
     "status": "ok",
     "timestamp": 1646373129498,
     "user": {
      "displayName": "박준혁",
      "photoUrl": "https://lh3.googleusercontent.com/a/default-user=s64",
      "userId": "13635420758066693274"
     },
     "user_tz": -540
    },
    "id": "21ed46b5"
   },
   "outputs": [],
   "source": [
    "path = 'data/train/'\n",
    "class_labels = { 0:'airplane', 1:'automobile',2:'bird', 3:'cat', 4:'deer', \n",
    "                5:'dog', 6:'frog', 7:'horse', 8:'ship', 9:'truck'}"
   ]
  },
  {
   "cell_type": "markdown",
   "id": "b9db54a1",
   "metadata": {
    "id": "b9db54a1"
   },
   "source": [
    "### 데이터 불러오기"
   ]
  },
  {
   "cell_type": "code",
   "execution_count": 10,
   "id": "ecaf2aae",
   "metadata": {
    "executionInfo": {
     "elapsed": 131860,
     "status": "ok",
     "timestamp": 1646373261343,
     "user": {
      "displayName": "박준혁",
      "photoUrl": "https://lh3.googleusercontent.com/a/default-user=s64",
      "userId": "13635420758066693274"
     },
     "user_tz": -540
    },
    "id": "ecaf2aae"
   },
   "outputs": [],
   "source": [
    "training_images, training_labels, le = load_CIFAR10(path=path)"
   ]
  },
  {
   "cell_type": "code",
   "execution_count": 11,
   "id": "_QWSveLg06fd",
   "metadata": {
    "colab": {
     "base_uri": "https://localhost:8080/"
    },
    "executionInfo": {
     "elapsed": 24605,
     "status": "ok",
     "timestamp": 1646373285932,
     "user": {
      "displayName": "박준혁",
      "photoUrl": "https://lh3.googleusercontent.com/a/default-user=s64",
      "userId": "13635420758066693274"
     },
     "user_tz": -540
    },
    "id": "_QWSveLg06fd",
    "outputId": "48ec4e7d-6347-422a-fb26-2cee25144982"
   },
   "outputs": [
    {
     "name": "stdout",
     "output_type": "stream",
     "text": [
      "(10000, 32, 32, 3)\n",
      "['0000.jpg', '0001.jpg', '0002.jpg', '0003.jpg', '0004.jpg']\n"
     ]
    }
   ],
   "source": [
    "test_images = load_test('data/test/')"
   ]
  },
  {
   "cell_type": "markdown",
   "id": "ea4119bf",
   "metadata": {
    "id": "ea4119bf"
   },
   "source": [
    "## 2. EDA"
   ]
  },
  {
   "cell_type": "code",
   "execution_count": 12,
   "id": "e9c310ad",
   "metadata": {
    "colab": {
     "base_uri": "https://localhost:8080/"
    },
    "executionInfo": {
     "elapsed": 28,
     "status": "ok",
     "timestamp": 1646373285937,
     "user": {
      "displayName": "박준혁",
      "photoUrl": "https://lh3.googleusercontent.com/a/default-user=s64",
      "userId": "13635420758066693274"
     },
     "user_tz": -540
    },
    "id": "e9c310ad",
    "outputId": "3ccc7af7-cfce-4229-ed2d-de910d9b0b82"
   },
   "outputs": [
    {
     "name": "stdout",
     "output_type": "stream",
     "text": [
      "train 이미지 크기: (50000, 32, 32, 3)\n",
      "train 라벨 크기: (50000, 1)\n",
      "클래스 값: [0 1 2 3 4 5 6 7 8 9]\n"
     ]
    }
   ],
   "source": [
    "print(\"train 이미지 크기:\", training_images.shape)\n",
    "print(\"train 라벨 크기:\", training_labels.shape)\n",
    "print('클래스 값:',np.unique(training_labels))"
   ]
  },
  {
   "cell_type": "code",
   "execution_count": 13,
   "id": "c671b377",
   "metadata": {
    "colab": {
     "base_uri": "https://localhost:8080/",
     "height": 179
    },
    "executionInfo": {
     "elapsed": 946,
     "status": "ok",
     "timestamp": 1646373286859,
     "user": {
      "displayName": "박준혁",
      "photoUrl": "https://lh3.googleusercontent.com/a/default-user=s64",
      "userId": "13635420758066693274"
     },
     "user_tz": -540
    },
    "id": "c671b377",
    "outputId": "599b8193-4e7e-4bd7-a6ac-8fec1c2680fe"
   },
   "outputs": [
    {
     "name": "stdout",
     "output_type": "stream",
     "text": [
      "[[0 0 0 0 0 0 0 0 0 0]]\n"
     ]
    },
    {
     "data": {
      "text/plain": [
       "<Figure size 432x288 with 0 Axes>"
      ]
     },
     "metadata": {},
     "output_type": "display_data"
    },
    {
     "data": {
      "image/png": "[encoded data removed]",
      "text/plain": [
       "<Figure size 360x144 with 10 Axes>"
      ]
     },
     "metadata": {
      "needs_background": "light"
     },
     "output_type": "display_data"
    }
   ],
   "source": [
    "plot_images(2,5,training_images[:10])\n",
    "print(training_labels[:10].reshape(1,-1))"
   ]
  },
  {
   "cell_type": "code",
   "execution_count": 14,
   "id": "630fdea0",
   "metadata": {
    "colab": {
     "base_uri": "https://localhost:8080/",
     "height": 289
    },
    "executionInfo": {
     "elapsed": 1006,
     "status": "ok",
     "timestamp": 1646373287863,
     "user": {
      "displayName": "박준혁",
      "photoUrl": "https://lh3.googleusercontent.com/a/default-user=s64",
      "userId": "13635420758066693274"
     },
     "user_tz": -540
    },
    "id": "630fdea0",
    "outputId": "f9ae0bf0-62b3-46de-d618-61461c074298"
   },
   "outputs": [
    {
     "data": {
      "image/png": "[encoded data removed]",
      "text/plain": [
       "<Figure size 720x360 with 10 Axes>"
      ]
     },
     "metadata": {},
     "output_type": "display_data"
    }
   ],
   "source": [
    "plt.figure(figsize=[10,5])\n",
    "for i in range(10):\n",
    "    import random\n",
    "    num = random.randint(0,50000)\n",
    "    plt.subplot(2, 5, i + 1)\n",
    "    plt.grid(False)\n",
    "    plt.xticks([])\n",
    "    plt.yticks([])\n",
    "    plt.xlabel(training_labels[num][0])\n",
    "    plt.imshow(training_images[num])\n",
    "plt.show()"
   ]
  },
  {
   "cell_type": "code",
   "execution_count": 15,
   "id": "beabb46f",
   "metadata": {
    "colab": {
     "base_uri": "https://localhost:8080/",
     "height": 350
    },
    "executionInfo": {
     "elapsed": 21,
     "status": "ok",
     "timestamp": 1646373287864,
     "user": {
      "displayName": "박준혁",
      "photoUrl": "https://lh3.googleusercontent.com/a/default-user=s64",
      "userId": "13635420758066693274"
     },
     "user_tz": -540
    },
    "id": "beabb46f",
    "outputId": "fa23a374-3ee1-4ea3-ffb8-662f32708a79"
   },
   "outputs": [
    {
     "data": {
      "image/png": "[encoded data removed]",
      "text/plain": [
       "<Figure size 720x360 with 1 Axes>"
      ]
     },
     "metadata": {
      "needs_background": "light"
     },
     "output_type": "display_data"
    }
   ],
   "source": [
    "plt.figure(figsize=[10,5])\n",
    "sns.countplot(training_labels.ravel())\n",
    "plt.title('Distribution of training data')\n",
    "plt.xlabel('Classes')\n",
    "plt.show()"
   ]
  },
  {
   "cell_type": "markdown",
   "id": "a56170bb",
   "metadata": {
    "id": "a56170bb"
   },
   "source": [
    "## 3. Data Prepare & Preprocessing"
   ]
  },
  {
   "cell_type": "markdown",
   "id": "maF0ecqVU2L2",
   "metadata": {
    "id": "maF0ecqVU2L2"
   },
   "source": [
    "### 데이터 증강"
   ]
  },
  {
   "cell_type": "code",
   "execution_count": 16,
   "id": "zNBfRsg_ReLX",
   "metadata": {
    "executionInfo": {
     "elapsed": 4,
     "status": "ok",
     "timestamp": 1646373395952,
     "user": {
      "displayName": "박준혁",
      "photoUrl": "https://lh3.googleusercontent.com/a/default-user=s64",
      "userId": "13635420758066693274"
     },
     "user_tz": -540
    },
    "id": "zNBfRsg_ReLX"
   },
   "outputs": [],
   "source": [
    "# ImageDataGenerator객체 정의\n",
    "datagenerator = ImageDataGenerator(rotation_range = 30, brightness_range=[0.8,1.2], width_shift_range=0.1, height_shift_range=0.1, shear_range=0.2, zoom_range=0.2, horizontal_flip=False, vertical_flip=False, fill_mode='nearest')"
   ]
  },
  {
   "cell_type": "code",
   "execution_count": 17,
   "id": "vjmr57cHXFiO",
   "metadata": {
    "colab": {
     "base_uri": "https://localhost:8080/",
     "height": 266
    },
    "executionInfo": {
     "elapsed": 1621,
     "status": "ok",
     "timestamp": 1646373398635,
     "user": {
      "displayName": "박준혁",
      "photoUrl": "https://lh3.googleusercontent.com/a/default-user=s64",
      "userId": "13635420758066693274"
     },
     "user_tz": -540
    },
    "id": "vjmr57cHXFiO",
    "outputId": "e5f25a2a-ae77-4207-d316-f2312c0578ff"
   },
   "outputs": [
    {
     "data": {
      "image/png": "[encoded data removed]",
      "text/plain": [
       "<Figure size 432x288 with 1 Axes>"
      ]
     },
     "metadata": {
      "needs_background": "light"
     },
     "output_type": "display_data"
    }
   ],
   "source": [
    "sample = training_images[0]\n",
    "plt.imshow(sample)\n",
    "sample = np.expand_dims(sample, 0)"
   ]
  },
  {
   "cell_type": "code",
   "execution_count": 18,
   "id": "LAaHLAGxXFk1",
   "metadata": {
    "executionInfo": {
     "elapsed": 11,
     "status": "ok",
     "timestamp": 1646373398640,
     "user": {
      "displayName": "박준혁",
      "photoUrl": "https://lh3.googleusercontent.com/a/default-user=s64",
      "userId": "13635420758066693274"
     },
     "user_tz": -540
    },
    "id": "LAaHLAGxXFk1"
   },
   "outputs": [],
   "source": [
    "sample_image_it = datagenerator.flow(sample, batch_size=1, seed = 42)"
   ]
  },
  {
   "cell_type": "code",
   "execution_count": 19,
   "id": "gZKUO5OAXTBG",
   "metadata": {
    "colab": {
     "base_uri": "https://localhost:8080/",
     "height": 322
    },
    "executionInfo": {
     "elapsed": 1284,
     "status": "ok",
     "timestamp": 1646373399913,
     "user": {
      "displayName": "박준혁",
      "photoUrl": "https://lh3.googleusercontent.com/a/default-user=s64",
      "userId": "13635420758066693274"
     },
     "user_tz": -540
    },
    "id": "gZKUO5OAXTBG",
    "outputId": "f71d7906-4d18-41c8-a714-30484711d13c"
   },
   "outputs": [
    {
     "data": {
      "image/png": "[encoded data removed]",
      "text/plain": [
       "<Figure size 360x360 with 9 Axes>"
      ]
     },
     "metadata": {
      "needs_background": "light"
     },
     "output_type": "display_data"
    }
   ],
   "source": [
    "fig = plt.figure(figsize = (5,5))\n",
    "for i in range(9):\n",
    "    plt.subplot(3, 3, 1+i)\n",
    "    batch = sample_image_it.next()\n",
    "    image = batch[0].astype('uint8')\n",
    "    plt.imshow(image)\n",
    "plt.show()"
   ]
  },
  {
   "cell_type": "code",
   "execution_count": 20,
   "id": "UV8l6w0NXFoM",
   "metadata": {
    "colab": {
     "base_uri": "https://localhost:8080/"
    },
    "executionInfo": {
     "elapsed": 10,
     "status": "ok",
     "timestamp": 1646373399915,
     "user": {
      "displayName": "박준혁",
      "photoUrl": "https://lh3.googleusercontent.com/a/default-user=s64",
      "userId": "13635420758066693274"
     },
     "user_tz": -540
    },
    "id": "UV8l6w0NXFoM",
    "outputId": "e17bf1cb-d279-4ceb-ec76-f556395d4ffd"
   },
   "outputs": [
    {
     "name": "stdout",
     "output_type": "stream",
     "text": [
      "augsize : 150000\n"
     ]
    }
   ],
   "source": [
    "augment_size = 150000 \n",
    "\n",
    "np.random.seed(42)\n",
    "idx = np.random.randint(training_images.shape[0], size=augment_size)\n",
    "print('augsize :',len(idx))\n",
    "training_image_aug = training_images[idx].copy()\n",
    "training_labels_aug = training_labels[idx].copy()"
   ]
  },
  {
   "cell_type": "code",
   "execution_count": 21,
   "id": "XL6A6TcGY4a2",
   "metadata": {
    "colab": {
     "base_uri": "https://localhost:8080/"
    },
    "executionInfo": {
     "elapsed": 124412,
     "status": "ok",
     "timestamp": 1646373527429,
     "user": {
      "displayName": "박준혁",
      "photoUrl": "https://lh3.googleusercontent.com/a/default-user=s64",
      "userId": "13635420758066693274"
     },
     "user_tz": -540
    },
    "id": "XL6A6TcGY4a2",
    "outputId": "d9f21fa9-d27e-42a2-b5d7-2c7210672e99"
   },
   "outputs": [
    {
     "name": "stdout",
     "output_type": "stream",
     "text": [
      "training_images : (200000, 32, 32, 3)\n",
      "training_labels : (200000, 1)\n"
     ]
    }
   ],
   "source": [
    "training_image_aug = datagenerator.flow(training_image_aug, np.zeros(augment_size), batch_size=augment_size, shuffle=False, seed = 42).next()[0]\n",
    "\n",
    "training_images = np.concatenate((training_images, training_image_aug)) #training에 생성한 데이터 추가\n",
    "training_labels = np.concatenate((training_labels, training_labels_aug))\n",
    "print('training_images :',training_images.shape)\n",
    "print('training_labels :',training_labels.shape)"
   ]
  },
  {
   "cell_type": "code",
   "execution_count": 22,
   "id": "qxiy6SbEbAhV",
   "metadata": {
    "colab": {
     "base_uri": "https://localhost:8080/",
     "height": 350
    },
    "executionInfo": {
     "elapsed": 54,
     "status": "ok",
     "timestamp": 1646373527437,
     "user": {
      "displayName": "박준혁",
      "photoUrl": "https://lh3.googleusercontent.com/a/default-user=s64",
      "userId": "13635420758066693274"
     },
     "user_tz": -540
    },
    "id": "qxiy6SbEbAhV",
    "outputId": "b41e17ff-f398-4f5a-e31d-244638c5be0d"
   },
   "outputs": [
    {
     "data": {
      "image/png": "[encoded data removed]",
      "text/plain": [
       "<Figure size 720x360 with 1 Axes>"
      ]
     },
     "metadata": {
      "needs_background": "light"
     },
     "output_type": "display_data"
    }
   ],
   "source": [
    "plt.figure(figsize=[10,5])\n",
    "sns.countplot(training_labels.ravel())\n",
    "plt.title('Distribution of augmented training data')\n",
    "plt.xlabel('Classes')\n",
    "plt.show()"
   ]
  },
  {
   "cell_type": "markdown",
   "id": "drKjMPKcU7V_",
   "metadata": {
    "id": "drKjMPKcU7V_"
   },
   "source": [
    "### 데이터 분할"
   ]
  },
  {
   "cell_type": "code",
   "execution_count": 23,
   "id": "IVC48FVtxPcB",
   "metadata": {
    "colab": {
     "base_uri": "https://localhost:8080/"
    },
    "executionInfo": {
     "elapsed": 584,
     "status": "ok",
     "timestamp": 1646373527988,
     "user": {
      "displayName": "박준혁",
      "photoUrl": "https://lh3.googleusercontent.com/a/default-user=s64",
      "userId": "13635420758066693274"
     },
     "user_tz": -540
    },
    "id": "IVC48FVtxPcB",
    "outputId": "eb977312-b01d-455a-bc20-90ad72b7eb71"
   },
   "outputs": [
    {
     "data": {
      "text/plain": [
       "array([51960, 34873, 20655, ...,  6618, 90430, 29828])"
      ]
     },
     "execution_count": 23,
     "metadata": {},
     "output_type": "execute_result"
    }
   ],
   "source": [
    "# 데이터 셔플\n",
    "np.random.seed(25)\n",
    "idx = np.arange(training_images.shape[0])\n",
    "np.random.shuffle(idx)\n",
    "training_images = training_images[idx]\n",
    "training_labels = training_labels[idx]\n",
    "idx"
   ]
  },
  {
   "cell_type": "code",
   "execution_count": 24,
   "id": "b3106b9c",
   "metadata": {
    "executionInfo": {
     "elapsed": 2367,
     "status": "ok",
     "timestamp": 1646373530352,
     "user": {
      "displayName": "박준혁",
      "photoUrl": "https://lh3.googleusercontent.com/a/default-user=s64",
      "userId": "13635420758066693274"
     },
     "user_tz": -540
    },
    "id": "b3106b9c"
   },
   "outputs": [],
   "source": [
    "X_train, X_valid, y_train, y_valid = train_test_split(training_images, training_labels, test_size=0.2, random_state=42)\n",
    "X_test = test_images"
   ]
  },
  {
   "cell_type": "code",
   "execution_count": 25,
   "id": "215fcd67",
   "metadata": {
    "colab": {
     "base_uri": "https://localhost:8080/"
    },
    "executionInfo": {
     "elapsed": 21,
     "status": "ok",
     "timestamp": 1646373530353,
     "user": {
      "displayName": "박준혁",
      "photoUrl": "https://lh3.googleusercontent.com/a/default-user=s64",
      "userId": "13635420758066693274"
     },
     "user_tz": -540
    },
    "id": "215fcd67",
    "outputId": "e815d1b4-2130-49cc-98cb-6ee5e9acb68b"
   },
   "outputs": [
    {
     "name": "stdout",
     "output_type": "stream",
     "text": [
      "X_train 크기: (160000, 32, 32, 3)\n",
      "X_valid 크기: (40000, 32, 32, 3)\n",
      "X_test 크기: (10000, 32, 32, 3)\n"
     ]
    }
   ],
   "source": [
    "print('X_train 크기:',X_train.shape)\n",
    "print('X_valid 크기:',X_valid.shape)\n",
    "print('X_test 크기:',X_test.shape)"
   ]
  },
  {
   "cell_type": "code",
   "execution_count": 26,
   "id": "fabca9f6",
   "metadata": {
    "executionInfo": {
     "elapsed": 1931,
     "status": "ok",
     "timestamp": 1646373532268,
     "user": {
      "displayName": "박준혁",
      "photoUrl": "https://lh3.googleusercontent.com/a/default-user=s64",
      "userId": "13635420758066693274"
     },
     "user_tz": -540
    },
    "id": "fabca9f6"
   },
   "outputs": [],
   "source": [
    "X_train = X_train / 255.0\n",
    "X_valid = X_valid / 255.0\n",
    "X_test = X_test / 255.0"
   ]
  },
  {
   "cell_type": "code",
   "execution_count": 27,
   "id": "4gN5K_KUiUvt",
   "metadata": {
    "colab": {
     "base_uri": "https://localhost:8080/"
    },
    "executionInfo": {
     "elapsed": 37,
     "status": "ok",
     "timestamp": 1646373532269,
     "user": {
      "displayName": "박준혁",
      "photoUrl": "https://lh3.googleusercontent.com/a/default-user=s64",
      "userId": "13635420758066693274"
     },
     "user_tz": -540
    },
    "id": "4gN5K_KUiUvt",
    "outputId": "bdb1207e-fe00-4d02-d8c3-6066549b456f"
   },
   "outputs": [
    {
     "name": "stdout",
     "output_type": "stream",
     "text": [
      "0.46949038\n",
      "0.6659952\n",
      "0.4291526245915032\n"
     ]
    }
   ],
   "source": [
    "print(X_train[0].mean())\n",
    "print(X_valid[0].mean())\n",
    "print(X_test[0].mean())"
   ]
  },
  {
   "cell_type": "markdown",
   "id": "b35bfe13",
   "metadata": {
    "id": "b35bfe13"
   },
   "source": [
    "## 4. CNN Model Design"
   ]
  },
  {
   "cell_type": "markdown",
   "id": "vwHeRko-Uvh-",
   "metadata": {
    "id": "vwHeRko-Uvh-"
   },
   "source": [
    "ResNet 인공신경망 정의 Ver2"
   ]
  },
  {
   "cell_type": "code",
   "execution_count": 28,
   "id": "T4oESz_IUpOu",
   "metadata": {
    "executionInfo": {
     "elapsed": 575,
     "status": "ok",
     "timestamp": 1646373540660,
     "user": {
      "displayName": "박준혁",
      "photoUrl": "https://lh3.googleusercontent.com/a/default-user=s64",
      "userId": "13635420758066693274"
     },
     "user_tz": -540
    },
    "id": "T4oESz_IUpOu"
   },
   "outputs": [],
   "source": [
    "# Identity Block (항등 블럭) 정의\n",
    "def identity_block(X, filters, kernel_size):\n",
    "    X_shortcut = X\n",
    "    \n",
    "    X = tf.keras.layers.Conv2D(filters, kernel_size, padding='SAME')(X)\n",
    "    X = tf.keras.layers.BatchNormalization()(X)\n",
    "    X = tf.keras.layers.Activation('relu')(X)\n",
    "    \n",
    "    X = tf.keras.layers.Conv2D(filters, kernel_size, padding='SAME')(X)\n",
    "    X = tf.keras.layers.BatchNormalization()(X)\n",
    "    X = tf.keras.layers.Activation('relu')(X)\n",
    "    \n",
    "    X = tf.keras.layers.Conv2D(filters, kernel_size, padding='SAME')(X)\n",
    "    X = tf.keras.layers.BatchNormalization()(X)\n",
    "    \n",
    "    # Add\n",
    "    X = tf.keras.layers.Add()([X, X_shortcut])\n",
    "    X = tf.keras.layers.Activation('relu')(X)\n",
    "    \n",
    "    return X\n",
    "\n",
    "# Convolutional Bloack (컨볼루션 블럭) 정의\n",
    "def convolutional_block(X, filters, kernel_size):\n",
    "    X_shortcut = X\n",
    "    \n",
    "    X = tf.keras.layers.Conv2D(filters, kernel_size, padding='SAME')(X)\n",
    "    X = tf.keras.layers.BatchNormalization()(X)\n",
    "    X = tf.keras.layers.Activation('relu')(X)\n",
    "    \n",
    "    X = tf.keras.layers.Conv2D(filters, kernel_size, padding='SAME')(X)\n",
    "    X = tf.keras.layers.BatchNormalization()(X)\n",
    "    X = tf.keras.layers.Activation('relu')(X)\n",
    "    \n",
    "    X = tf.keras.layers.Conv2D(filters, kernel_size, padding='SAME')(X)\n",
    "    X = tf.keras.layers.BatchNormalization()(X)\n",
    "\n",
    "    X_shortcut = tf.keras.layers.Conv2D(filters, kernel_size, padding='SAME')(X_shortcut)\n",
    "    X_shortcut = tf.keras.layers.BatchNormalization()(X_shortcut)\n",
    "    \n",
    "    # Add\n",
    "    X = tf.keras.layers.Add()([X, X_shortcut])\n",
    "    X = tf.keras.layers.Activation('relu')(X)\n",
    "    \n",
    "    return X"
   ]
  },
  {
   "cell_type": "code",
   "execution_count": 29,
   "id": "LX1Yyfe_Vv_Y",
   "metadata": {
    "executionInfo": {
     "elapsed": 4,
     "status": "ok",
     "timestamp": 1646373541820,
     "user": {
      "displayName": "박준혁",
      "photoUrl": "https://lh3.googleusercontent.com/a/default-user=s64",
      "userId": "13635420758066693274"
     },
     "user_tz": -540
    },
    "id": "LX1Yyfe_Vv_Y"
   },
   "outputs": [],
   "source": [
    "# ResNet2 모델 정의\n",
    "def ResNet2(input_shape = (32, 32, 3), classes = 10):\n",
    "    X_input = tf.keras.layers.Input(input_shape)\n",
    "    X = X_input\n",
    "    \n",
    "    X = tf.keras.layers.Conv2D(64, (5,5), padding='SAME', strides=2)(X)\n",
    "    X = tf.keras.layers.BatchNormalization()(X)\n",
    "    X = tf.keras.layers.Activation('relu')(X)\n",
    "    \n",
    "    X = convolutional_block(X, 64, (3,3))\n",
    "    X = identity_block(X, 64, (3,3))\n",
    "    X = identity_block(X, 64, (3,3))\n",
    "    X = tf.keras.layers.MaxPooling2D(2, 2, padding='SAME')(X)\n",
    "    \n",
    "    X = convolutional_block(X, 128, (3,3)) #64->128, use conv block\n",
    "    X = identity_block(X, 128, (3,3))\n",
    "    X = identity_block(X, 128, (3,3))\n",
    "    X = tf.keras.layers.MaxPooling2D(2, 2, padding='SAME')(X)\n",
    "    \n",
    "    X = convolutional_block(X, 256, (3,3)) #128->256, use conv block\n",
    "    X = identity_block(X, 256, (3,3))\n",
    "    X = identity_block(X, 256, (3,3))\n",
    "    X = tf.keras.layers.MaxPooling2D(2, 2, padding='SAME')(X)\n",
    "    \n",
    "    X = convolutional_block(X, 512, (3,3)) #256->512, use conv block\n",
    "    X = identity_block(X, 512, (3,3))\n",
    "    X = identity_block(X, 512, (3,3))\n",
    "    X = tf.keras.layers.MaxPooling2D(2, 2, padding='SAME')(X)\n",
    "    \n",
    "    X = tf.keras.layers.GlobalAveragePooling2D()(X)\n",
    "    X = tf.keras.layers.Dense(256, kernel_regularizer='l2', activation='relu', kernel_initializer=tf.keras.initializers.GlorotNormal())(X)\n",
    "    X = tf.keras.layers.BatchNormalization()(X)\n",
    "    X = tf.keras.layers.Dropout(0.5)(X)\n",
    "    X = tf.keras.layers.Dense(10, activation = 'softmax')(X) # ouput layer (10 class)\n",
    "    \n",
    "    model = tf.keras.models.Model(inputs = X_input, outputs = X, name = \"ResNet2\")\n",
    "    \n",
    "    return model"
   ]
  },
  {
   "cell_type": "code",
   "execution_count": 30,
   "id": "gFdQvf80XjJH",
   "metadata": {
    "executionInfo": {
     "elapsed": 4107,
     "status": "ok",
     "timestamp": 1646373547058,
     "user": {
      "displayName": "박준혁",
      "photoUrl": "https://lh3.googleusercontent.com/a/default-user=s64",
      "userId": "13635420758066693274"
     },
     "user_tz": -540
    },
    "id": "gFdQvf80XjJH"
   },
   "outputs": [],
   "source": [
    "# 모델 컴파일\n",
    "model = ResNet2()\n",
    "model.compile(optimizer='adam', \n",
    "                  loss='categorical_crossentropy', \n",
    "                  metrics=['accuracy'])"
   ]
  },
  {
   "cell_type": "code",
   "execution_count": 31,
   "id": "73ecc6fd",
   "metadata": {
    "executionInfo": {
     "elapsed": 78,
     "status": "ok",
     "timestamp": 1646373547059,
     "user": {
      "displayName": "박준혁",
      "photoUrl": "https://lh3.googleusercontent.com/a/default-user=s64",
      "userId": "13635420758066693274"
     },
     "user_tz": -540
    },
    "id": "73ecc6fd"
   },
   "outputs": [],
   "source": [
    "# 가중치 정보 저장 경로\n",
    "checkpoint_dir = path+'Training_checkpoint/'\n",
    "checkpoint_path = checkpoint_dir + 'cp-{epoch:04d}-{val_loss:.2f}.ckpt'\n",
    "\n",
    "# 5번 에포크씩 val_loss 변화 확인- 변화 없을 시 학습 중단\n",
    "early_stopping = EarlyStopping(monitor='val_loss', patience=10)\n",
    "cp = ModelCheckpoint(filepath=checkpoint_path, verbose=1,\n",
    "                     save_weights_only=True,\n",
    "                     save_best_only=True)"
   ]
  },
  {
   "cell_type": "code",
   "execution_count": null,
   "id": "1a5ad45f",
   "metadata": {
    "id": "1a5ad45f"
   },
   "outputs": [],
   "source": [
    "# Checking the model summary\n",
    "model.summary()"
   ]
  },
  {
   "cell_type": "code",
   "execution_count": 33,
   "id": "f908b3cb",
   "metadata": {
    "executionInfo": {
     "elapsed": 487,
     "status": "ok",
     "timestamp": 1646373552335,
     "user": {
      "displayName": "박준혁",
      "photoUrl": "https://lh3.googleusercontent.com/a/default-user=s64",
      "userId": "13635420758066693274"
     },
     "user_tz": -540
    },
    "id": "f908b3cb"
   },
   "outputs": [],
   "source": [
    "#!rm -rf Training_checkpoint/ # 가중치 저장 파일 전체 삭제"
   ]
  },
  {
   "cell_type": "code",
   "execution_count": 34,
   "id": "119e2683",
   "metadata": {
    "colab": {
     "base_uri": "https://localhost:8080/",
     "height": 474
    },
    "collapsed": true,
    "executionInfo": {
     "elapsed": 1023118,
     "status": "error",
     "timestamp": 1646374581228,
     "user": {
      "displayName": "박준혁",
      "photoUrl": "https://lh3.googleusercontent.com/a/default-user=s64",
      "userId": "13635420758066693274"
     },
     "user_tz": -540
    },
    "id": "119e2683",
    "outputId": "be31f826-d60f-433d-c007-6737d7c96bbc"
   },
   "outputs": [
    {
     "name": "stdout",
     "output_type": "stream",
     "text": [
      "\n",
      "Epoch 1: val_loss improved from inf to 22.49224, saving model to data/train/Training_checkpoint/cp-0001-22.49.ckpt\n",
      "\n",
      "Epoch 2: val_loss improved from 22.49224 to 21.53245, saving model to data/train/Training_checkpoint/cp-0002-21.53.ckpt\n",
      "\n",
      "Epoch 3: val_loss improved from 21.53245 to 10.77007, saving model to data/train/Training_checkpoint/cp-0003-10.77.ckpt\n"
     ]
    },
    {
     "ename": "KeyboardInterrupt",
     "evalue": "ignored",
     "output_type": "error",
     "traceback": [
      "\u001b[0;31m---------------------------------------------------------------------------\u001b[0m",
      "\u001b[0;31mKeyboardInterrupt\u001b[0m                         Traceback (most recent call last)",
      "\u001b[0;32m<ipython-input-34-f434249160f7>\u001b[0m in \u001b[0;36m<module>\u001b[0;34m()\u001b[0m\n\u001b[1;32m      1\u001b[0m history = model.fit(X_train, y_train, batch_size=128, epochs=500,\n\u001b[1;32m      2\u001b[0m                     \u001b[0mcallbacks\u001b[0m\u001b[0;34m=\u001b[0m\u001b[0;34m[\u001b[0m\u001b[0mearly_stopping\u001b[0m\u001b[0;34m,\u001b[0m \u001b[0mcp\u001b[0m\u001b[0;34m]\u001b[0m\u001b[0;34m,\u001b[0m\u001b[0;34m\u001b[0m\u001b[0;34m\u001b[0m\u001b[0m\n\u001b[0;32m----> 3\u001b[0;31m                     validation_data = (X_valid,y_valid), verbose=0)\n\u001b[0m",
      "\u001b[0;32m/usr/local/lib/python3.7/dist-packages/keras/utils/traceback_utils.py\u001b[0m in \u001b[0;36merror_handler\u001b[0;34m(*args, **kwargs)\u001b[0m\n\u001b[1;32m     62\u001b[0m     \u001b[0mfiltered_tb\u001b[0m \u001b[0;34m=\u001b[0m \u001b[0;32mNone\u001b[0m\u001b[0;34m\u001b[0m\u001b[0;34m\u001b[0m\u001b[0m\n\u001b[1;32m     63\u001b[0m     \u001b[0;32mtry\u001b[0m\u001b[0;34m:\u001b[0m\u001b[0;34m\u001b[0m\u001b[0;34m\u001b[0m\u001b[0m\n\u001b[0;32m---> 64\u001b[0;31m       \u001b[0;32mreturn\u001b[0m \u001b[0mfn\u001b[0m\u001b[0;34m(\u001b[0m\u001b[0;34m*\u001b[0m\u001b[0margs\u001b[0m\u001b[0;34m,\u001b[0m \u001b[0;34m**\u001b[0m\u001b[0mkwargs\u001b[0m\u001b[0;34m)\u001b[0m\u001b[0;34m\u001b[0m\u001b[0;34m\u001b[0m\u001b[0m\n\u001b[0m\u001b[1;32m     65\u001b[0m     \u001b[0;32mexcept\u001b[0m \u001b[0mException\u001b[0m \u001b[0;32mas\u001b[0m \u001b[0me\u001b[0m\u001b[0;34m:\u001b[0m  \u001b[0;31m# pylint: disable=broad-except\u001b[0m\u001b[0;34m\u001b[0m\u001b[0;34m\u001b[0m\u001b[0m\n\u001b[1;32m     66\u001b[0m       \u001b[0mfiltered_tb\u001b[0m \u001b[0;34m=\u001b[0m \u001b[0m_process_traceback_frames\u001b[0m\u001b[0;34m(\u001b[0m\u001b[0me\u001b[0m\u001b[0;34m.\u001b[0m\u001b[0m__traceback__\u001b[0m\u001b[0;34m)\u001b[0m\u001b[0;34m\u001b[0m\u001b[0;34m\u001b[0m\u001b[0m\n",
      "\u001b[0;32m/usr/local/lib/python3.7/dist-packages/keras/engine/training.py\u001b[0m in \u001b[0;36mfit\u001b[0;34m(self, x, y, batch_size, epochs, verbose, callbacks, validation_split, validation_data, shuffle, class_weight, sample_weight, initial_epoch, steps_per_epoch, validation_steps, validation_batch_size, validation_freq, max_queue_size, workers, use_multiprocessing)\u001b[0m\n\u001b[1;32m   1382\u001b[0m                 _r=1):\n\u001b[1;32m   1383\u001b[0m               \u001b[0mcallbacks\u001b[0m\u001b[0;34m.\u001b[0m\u001b[0mon_train_batch_begin\u001b[0m\u001b[0;34m(\u001b[0m\u001b[0mstep\u001b[0m\u001b[0;34m)\u001b[0m\u001b[0;34m\u001b[0m\u001b[0;34m\u001b[0m\u001b[0m\n\u001b[0;32m-> 1384\u001b[0;31m               \u001b[0mtmp_logs\u001b[0m \u001b[0;34m=\u001b[0m \u001b[0mself\u001b[0m\u001b[0;34m.\u001b[0m\u001b[0mtrain_function\u001b[0m\u001b[0;34m(\u001b[0m\u001b[0miterator\u001b[0m\u001b[0;34m)\u001b[0m\u001b[0;34m\u001b[0m\u001b[0;34m\u001b[0m\u001b[0m\n\u001b[0m\u001b[1;32m   1385\u001b[0m               \u001b[0;32mif\u001b[0m \u001b[0mdata_handler\u001b[0m\u001b[0;34m.\u001b[0m\u001b[0mshould_sync\u001b[0m\u001b[0;34m:\u001b[0m\u001b[0;34m\u001b[0m\u001b[0;34m\u001b[0m\u001b[0m\n\u001b[1;32m   1386\u001b[0m                 \u001b[0mcontext\u001b[0m\u001b[0;34m.\u001b[0m\u001b[0masync_wait\u001b[0m\u001b[0;34m(\u001b[0m\u001b[0;34m)\u001b[0m\u001b[0;34m\u001b[0m\u001b[0;34m\u001b[0m\u001b[0m\n",
      "\u001b[0;32m/usr/local/lib/python3.7/dist-packages/tensorflow/python/util/traceback_utils.py\u001b[0m in \u001b[0;36merror_handler\u001b[0;34m(*args, **kwargs)\u001b[0m\n\u001b[1;32m    148\u001b[0m     \u001b[0mfiltered_tb\u001b[0m \u001b[0;34m=\u001b[0m \u001b[0;32mNone\u001b[0m\u001b[0;34m\u001b[0m\u001b[0;34m\u001b[0m\u001b[0m\n\u001b[1;32m    149\u001b[0m     \u001b[0;32mtry\u001b[0m\u001b[0;34m:\u001b[0m\u001b[0;34m\u001b[0m\u001b[0;34m\u001b[0m\u001b[0m\n\u001b[0;32m--> 150\u001b[0;31m       \u001b[0;32mreturn\u001b[0m \u001b[0mfn\u001b[0m\u001b[0;34m(\u001b[0m\u001b[0;34m*\u001b[0m\u001b[0margs\u001b[0m\u001b[0;34m,\u001b[0m \u001b[0;34m**\u001b[0m\u001b[0mkwargs\u001b[0m\u001b[0;34m)\u001b[0m\u001b[0;34m\u001b[0m\u001b[0;34m\u001b[0m\u001b[0m\n\u001b[0m\u001b[1;32m    151\u001b[0m     \u001b[0;32mexcept\u001b[0m \u001b[0mException\u001b[0m \u001b[0;32mas\u001b[0m \u001b[0me\u001b[0m\u001b[0;34m:\u001b[0m\u001b[0;34m\u001b[0m\u001b[0;34m\u001b[0m\u001b[0m\n\u001b[1;32m    152\u001b[0m       \u001b[0mfiltered_tb\u001b[0m \u001b[0;34m=\u001b[0m \u001b[0m_process_traceback_frames\u001b[0m\u001b[0;34m(\u001b[0m\u001b[0me\u001b[0m\u001b[0;34m.\u001b[0m\u001b[0m__traceback__\u001b[0m\u001b[0;34m)\u001b[0m\u001b[0;34m\u001b[0m\u001b[0;34m\u001b[0m\u001b[0m\n",
      "\u001b[0;32m/usr/local/lib/python3.7/dist-packages/tensorflow/python/eager/def_function.py\u001b[0m in \u001b[0;36m__call__\u001b[0;34m(self, *args, **kwds)\u001b[0m\n\u001b[1;32m    913\u001b[0m \u001b[0;34m\u001b[0m\u001b[0m\n\u001b[1;32m    914\u001b[0m       \u001b[0;32mwith\u001b[0m \u001b[0mOptionalXlaContext\u001b[0m\u001b[0;34m(\u001b[0m\u001b[0mself\u001b[0m\u001b[0;34m.\u001b[0m\u001b[0m_jit_compile\u001b[0m\u001b[0;34m)\u001b[0m\u001b[0;34m:\u001b[0m\u001b[0;34m\u001b[0m\u001b[0;34m\u001b[0m\u001b[0m\n\u001b[0;32m--> 915\u001b[0;31m         \u001b[0mresult\u001b[0m \u001b[0;34m=\u001b[0m \u001b[0mself\u001b[0m\u001b[0;34m.\u001b[0m\u001b[0m_call\u001b[0m\u001b[0;34m(\u001b[0m\u001b[0;34m*\u001b[0m\u001b[0margs\u001b[0m\u001b[0;34m,\u001b[0m \u001b[0;34m**\u001b[0m\u001b[0mkwds\u001b[0m\u001b[0;34m)\u001b[0m\u001b[0;34m\u001b[0m\u001b[0;34m\u001b[0m\u001b[0m\n\u001b[0m\u001b[1;32m    916\u001b[0m \u001b[0;34m\u001b[0m\u001b[0m\n\u001b[1;32m    917\u001b[0m       \u001b[0mnew_tracing_count\u001b[0m \u001b[0;34m=\u001b[0m \u001b[0mself\u001b[0m\u001b[0;34m.\u001b[0m\u001b[0mexperimental_get_tracing_count\u001b[0m\u001b[0;34m(\u001b[0m\u001b[0;34m)\u001b[0m\u001b[0;34m\u001b[0m\u001b[0;34m\u001b[0m\u001b[0m\n",
      "\u001b[0;32m/usr/local/lib/python3.7/dist-packages/tensorflow/python/eager/def_function.py\u001b[0m in \u001b[0;36m_call\u001b[0;34m(self, *args, **kwds)\u001b[0m\n\u001b[1;32m    945\u001b[0m       \u001b[0;31m# In this case we have created variables on the first call, so we run the\u001b[0m\u001b[0;34m\u001b[0m\u001b[0;34m\u001b[0m\u001b[0;34m\u001b[0m\u001b[0m\n\u001b[1;32m    946\u001b[0m       \u001b[0;31m# defunned version which is guaranteed to never create variables.\u001b[0m\u001b[0;34m\u001b[0m\u001b[0;34m\u001b[0m\u001b[0;34m\u001b[0m\u001b[0m\n\u001b[0;32m--> 947\u001b[0;31m       \u001b[0;32mreturn\u001b[0m \u001b[0mself\u001b[0m\u001b[0;34m.\u001b[0m\u001b[0m_stateless_fn\u001b[0m\u001b[0;34m(\u001b[0m\u001b[0;34m*\u001b[0m\u001b[0margs\u001b[0m\u001b[0;34m,\u001b[0m \u001b[0;34m**\u001b[0m\u001b[0mkwds\u001b[0m\u001b[0;34m)\u001b[0m  \u001b[0;31m# pylint: disable=not-callable\u001b[0m\u001b[0;34m\u001b[0m\u001b[0;34m\u001b[0m\u001b[0m\n\u001b[0m\u001b[1;32m    948\u001b[0m     \u001b[0;32melif\u001b[0m \u001b[0mself\u001b[0m\u001b[0;34m.\u001b[0m\u001b[0m_stateful_fn\u001b[0m \u001b[0;32mis\u001b[0m \u001b[0;32mnot\u001b[0m \u001b[0;32mNone\u001b[0m\u001b[0;34m:\u001b[0m\u001b[0;34m\u001b[0m\u001b[0;34m\u001b[0m\u001b[0m\n\u001b[1;32m    949\u001b[0m       \u001b[0;31m# Release the lock early so that multiple threads can perform the call\u001b[0m\u001b[0;34m\u001b[0m\u001b[0;34m\u001b[0m\u001b[0;34m\u001b[0m\u001b[0m\n",
      "\u001b[0;32m/usr/local/lib/python3.7/dist-packages/tensorflow/python/eager/function.py\u001b[0m in \u001b[0;36m__call__\u001b[0;34m(self, *args, **kwargs)\u001b[0m\n\u001b[1;32m   2955\u001b[0m        filtered_flat_args) = self._maybe_define_function(args, kwargs)\n\u001b[1;32m   2956\u001b[0m     return graph_function._call_flat(\n\u001b[0;32m-> 2957\u001b[0;31m         filtered_flat_args, captured_inputs=graph_function.captured_inputs)  # pylint: disable=protected-access\n\u001b[0m\u001b[1;32m   2958\u001b[0m \u001b[0;34m\u001b[0m\u001b[0m\n\u001b[1;32m   2959\u001b[0m   \u001b[0;34m@\u001b[0m\u001b[0mproperty\u001b[0m\u001b[0;34m\u001b[0m\u001b[0;34m\u001b[0m\u001b[0m\n",
      "\u001b[0;32m/usr/local/lib/python3.7/dist-packages/tensorflow/python/eager/function.py\u001b[0m in \u001b[0;36m_call_flat\u001b[0;34m(self, args, captured_inputs, cancellation_manager)\u001b[0m\n\u001b[1;32m   1852\u001b[0m       \u001b[0;31m# No tape is watching; skip to running the function.\u001b[0m\u001b[0;34m\u001b[0m\u001b[0;34m\u001b[0m\u001b[0;34m\u001b[0m\u001b[0m\n\u001b[1;32m   1853\u001b[0m       return self._build_call_outputs(self._inference_function.call(\n\u001b[0;32m-> 1854\u001b[0;31m           ctx, args, cancellation_manager=cancellation_manager))\n\u001b[0m\u001b[1;32m   1855\u001b[0m     forward_backward = self._select_forward_and_backward_functions(\n\u001b[1;32m   1856\u001b[0m         \u001b[0margs\u001b[0m\u001b[0;34m,\u001b[0m\u001b[0;34m\u001b[0m\u001b[0;34m\u001b[0m\u001b[0m\n",
      "\u001b[0;32m/usr/local/lib/python3.7/dist-packages/tensorflow/python/eager/function.py\u001b[0m in \u001b[0;36mcall\u001b[0;34m(self, ctx, args, cancellation_manager)\u001b[0m\n\u001b[1;32m    502\u001b[0m               \u001b[0minputs\u001b[0m\u001b[0;34m=\u001b[0m\u001b[0margs\u001b[0m\u001b[0;34m,\u001b[0m\u001b[0;34m\u001b[0m\u001b[0;34m\u001b[0m\u001b[0m\n\u001b[1;32m    503\u001b[0m               \u001b[0mattrs\u001b[0m\u001b[0;34m=\u001b[0m\u001b[0mattrs\u001b[0m\u001b[0;34m,\u001b[0m\u001b[0;34m\u001b[0m\u001b[0;34m\u001b[0m\u001b[0m\n\u001b[0;32m--> 504\u001b[0;31m               ctx=ctx)\n\u001b[0m\u001b[1;32m    505\u001b[0m         \u001b[0;32melse\u001b[0m\u001b[0;34m:\u001b[0m\u001b[0;34m\u001b[0m\u001b[0;34m\u001b[0m\u001b[0m\n\u001b[1;32m    506\u001b[0m           outputs = execute.execute_with_cancellation(\n",
      "\u001b[0;32m/usr/local/lib/python3.7/dist-packages/tensorflow/python/eager/execute.py\u001b[0m in \u001b[0;36mquick_execute\u001b[0;34m(op_name, num_outputs, inputs, attrs, ctx, name)\u001b[0m\n\u001b[1;32m     53\u001b[0m     \u001b[0mctx\u001b[0m\u001b[0;34m.\u001b[0m\u001b[0mensure_initialized\u001b[0m\u001b[0;34m(\u001b[0m\u001b[0;34m)\u001b[0m\u001b[0;34m\u001b[0m\u001b[0;34m\u001b[0m\u001b[0m\n\u001b[1;32m     54\u001b[0m     tensors = pywrap_tfe.TFE_Py_Execute(ctx._handle, device_name, op_name,\n\u001b[0;32m---> 55\u001b[0;31m                                         inputs, attrs, num_outputs)\n\u001b[0m\u001b[1;32m     56\u001b[0m   \u001b[0;32mexcept\u001b[0m \u001b[0mcore\u001b[0m\u001b[0;34m.\u001b[0m\u001b[0m_NotOkStatusException\u001b[0m \u001b[0;32mas\u001b[0m \u001b[0me\u001b[0m\u001b[0;34m:\u001b[0m\u001b[0;34m\u001b[0m\u001b[0;34m\u001b[0m\u001b[0m\n\u001b[1;32m     57\u001b[0m     \u001b[0;32mif\u001b[0m \u001b[0mname\u001b[0m \u001b[0;32mis\u001b[0m \u001b[0;32mnot\u001b[0m \u001b[0;32mNone\u001b[0m\u001b[0;34m:\u001b[0m\u001b[0;34m\u001b[0m\u001b[0;34m\u001b[0m\u001b[0m\n",
      "\u001b[0;31mKeyboardInterrupt\u001b[0m: "
     ]
    }
   ],
   "source": [
    "history = model.fit(X_train, y_train, batch_size=128, epochs=500,\n",
    "                    callbacks=[early_stopping, cp],\n",
    "                    validation_data = (X_valid,y_valid), verbose=0)"
   ]
  },
  {
   "cell_type": "markdown",
   "id": "wPpDRCeFyFfd",
   "metadata": {
    "id": "wPpDRCeFyFfd"
   },
   "source": [
    "## 5. Learning Curve"
   ]
  },
  {
   "cell_type": "code",
   "execution_count": 31,
   "id": "318c88c0",
   "metadata": {
    "colab": {
     "base_uri": "https://localhost:8080/",
     "height": 313
    },
    "executionInfo": {
     "elapsed": 1528,
     "status": "ok",
     "timestamp": 1646369017328,
     "user": {
      "displayName": "박준혁",
      "photoUrl": "https://lh3.googleusercontent.com/a/default-user=s64",
      "userId": "13635420758066693274"
     },
     "user_tz": -540
    },
    "id": "318c88c0",
    "outputId": "3f7e7a1f-4c75-48d0-cd6a-c6d2ebb9d83c"
   },
   "outputs": [
    {
     "data": {
      "text/plain": [
       "Text(0.5, 1.0, 'Loss Curves')"
      ]
     },
     "execution_count": 31,
     "metadata": {},
     "output_type": "execute_result"
    },
    {
     "data": {
      "image/png": "[encoded data removed]",
      "text/plain": [
       "<Figure size 432x288 with 1 Axes>"
      ]
     },
     "metadata": {
      "needs_background": "light"
     },
     "output_type": "display_data"
    }
   ],
   "source": [
    "# Loss curve\n",
    "plt.figure(figsize=[6,4])\n",
    "plt.plot(history.history['loss'], 'black', linewidth=2.0)\n",
    "plt.plot(history.history['val_loss'], 'green', linewidth=2.0)\n",
    "plt.legend(['Training Loss', 'Validation Loss'], fontsize=14)\n",
    "plt.xlabel('Epochs', fontsize=10)\n",
    "plt.ylabel('Loss', fontsize=10)\n",
    "plt.title('Loss Curves', fontsize=12)"
   ]
  },
  {
   "cell_type": "code",
   "execution_count": 32,
   "id": "ce253c69",
   "metadata": {
    "colab": {
     "base_uri": "https://localhost:8080/",
     "height": 313
    },
    "collapsed": true,
    "executionInfo": {
     "elapsed": 34,
     "status": "ok",
     "timestamp": 1646369017331,
     "user": {
      "displayName": "박준혁",
      "photoUrl": "https://lh3.googleusercontent.com/a/default-user=s64",
      "userId": "13635420758066693274"
     },
     "user_tz": -540
    },
    "id": "ce253c69",
    "outputId": "3c640876-4758-42e7-9973-101c5aa91d7a"
   },
   "outputs": [
    {
     "data": {
      "text/plain": [
       "Text(0.5, 1.0, 'Accuracy Curves')"
      ]
     },
     "execution_count": 32,
     "metadata": {},
     "output_type": "execute_result"
    },
    {
     "data": {
      "image/png": "[encoded data removed]",
      "text/plain": [
       "<Figure size 432x288 with 1 Axes>"
      ]
     },
     "metadata": {
      "needs_background": "light"
     },
     "output_type": "display_data"
    }
   ],
   "source": [
    "# Accuracy curve\n",
    "plt.figure(figsize=[6,4])\n",
    "plt.plot(history.history['accuracy'], 'black', linewidth=2.0)\n",
    "plt.plot(history.history['val_accuracy'], 'blue', linewidth=2.0)\n",
    "plt.legend(['Training Accuracy', 'Validation Accuracy'], fontsize=14)\n",
    "plt.xlabel('Epochs', fontsize=10)\n",
    "plt.ylabel('Accuracy', fontsize=10)\n",
    "plt.title('Accuracy Curves', fontsize=12)"
   ]
  },
  {
   "cell_type": "markdown",
   "id": "13fgAPbDyRVR",
   "metadata": {
    "id": "13fgAPbDyRVR"
   },
   "source": [
    "## 6. Saving Model"
   ]
  },
  {
   "cell_type": "code",
   "execution_count": null,
   "id": "fc9e1f35",
   "metadata": {
    "colab": {
     "base_uri": "https://localhost:8080/"
    },
    "id": "fc9e1f35",
    "outputId": "179320d0-c285-4f7d-a494-7cda4e28c947"
   },
   "outputs": [
    {
     "name": "stdout",
     "output_type": "stream",
     "text": [
      "INFO:tensorflow:Assets written to: save/submit3model/assets\n"
     ]
    }
   ],
   "source": [
    "# 모델 저장\n",
    "model.save('save/submit4model/')"
   ]
  },
  {
   "cell_type": "code",
   "execution_count": null,
   "id": "9eb0028d",
   "metadata": {
    "id": "9eb0028d"
   },
   "outputs": [],
   "source": [
    "# history 파일로 저장\n",
    "history_df = pd.DataFrame(history.history)\n",
    "\n",
    "with open('save/submit4history.csv', mode='w') as hist_file:\n",
    "    history_df.to_csv(hist_file)"
   ]
  },
  {
   "cell_type": "markdown",
   "id": "XwmIalhuyZrI",
   "metadata": {
    "id": "XwmIalhuyZrI"
   },
   "source": [
    "## 7. Prediction Performance"
   ]
  },
  {
   "cell_type": "code",
   "execution_count": null,
   "id": "xHxD2qHNyaES",
   "metadata": {
    "colab": {
     "base_uri": "https://localhost:8080/"
    },
    "id": "xHxD2qHNyaES",
    "outputId": "f2fb7b4f-2d1d-43d5-85ea-6b1009fe1b06"
   },
   "outputs": [
    {
     "data": {
      "text/plain": [
       "array(['horse', 'airplane', 'airplane', 'horse', 'bird'], dtype='<U10')"
      ]
     },
     "execution_count": 32,
     "metadata": {},
     "output_type": "execute_result"
    }
   ],
   "source": [
    "pred_proba = model.predict(X_test) \n",
    "\n",
    "pred_class = []\n",
    "\n",
    "for i in pred_proba:\n",
    "    pred = np.argmax(i)\n",
    "    pred_class.append(pred)\n",
    "\n",
    "pred_class = le.inverse_transform(pred_class)\n",
    "pred_class[0:5]"
   ]
  },
  {
   "cell_type": "code",
   "execution_count": null,
   "id": "xkiBFleryaL-",
   "metadata": {
    "id": "xkiBFleryaL-"
   },
   "outputs": [],
   "source": [
    "sample_submission = pd.read_csv(\"./data/sample_submission.csv\")\n",
    "\n",
    "sample_submission.target = pred_class\n",
    "sample_submission.to_csv(\"submit4.csv\",index=False)"
   ]
  },
  {
   "cell_type": "code",
   "execution_count": null,
   "id": "zecQETlpyaPi",
   "metadata": {
    "colab": {
     "base_uri": "https://localhost:8080/",
     "height": 206
    },
    "id": "zecQETlpyaPi",
    "outputId": "b0fda03d-6823-4781-ccec-b5c7b36a527f"
   },
   "outputs": [
    {
     "data": {
      "text/html": [
       "\n",
       "  <div id=\"df-ff0fee84-5dbf-4279-a1b2-d5b0798641b0\">\n",
       "    <div class=\"colab-df-container\">\n",
       "      <div>\n",
       "<style scoped>\n",
       "    .dataframe tbody tr th:only-of-type {\n",
       "        vertical-align: middle;\n",
       "    }\n",
       "\n",
       "    .dataframe tbody tr th {\n",
       "        vertical-align: top;\n",
       "    }\n",
       "\n",
       "    .dataframe thead th {\n",
       "        text-align: right;\n",
       "    }\n",
       "</style>\n",
       "<table border=\"1\" class=\"dataframe\">\n",
       "  <thead>\n",
       "    <tr style=\"text-align: right;\">\n",
       "      <th></th>\n",
       "      <th>id</th>\n",
       "      <th>target</th>\n",
       "    </tr>\n",
       "  </thead>\n",
       "  <tbody>\n",
       "    <tr>\n",
       "      <th>0</th>\n",
       "      <td>0000.jpg</td>\n",
       "      <td>horse</td>\n",
       "    </tr>\n",
       "    <tr>\n",
       "      <th>1</th>\n",
       "      <td>0001.jpg</td>\n",
       "      <td>airplane</td>\n",
       "    </tr>\n",
       "    <tr>\n",
       "      <th>2</th>\n",
       "      <td>0002.jpg</td>\n",
       "      <td>airplane</td>\n",
       "    </tr>\n",
       "    <tr>\n",
       "      <th>3</th>\n",
       "      <td>0003.jpg</td>\n",
       "      <td>horse</td>\n",
       "    </tr>\n",
       "    <tr>\n",
       "      <th>4</th>\n",
       "      <td>0004.jpg</td>\n",
       "      <td>bird</td>\n",
       "    </tr>\n",
       "  </tbody>\n",
       "</table>\n",
       "</div>\n",
       "      <button class=\"colab-df-convert\" onclick=\"convertToInteractive('df-ff0fee84-5dbf-4279-a1b2-d5b0798641b0')\"\n",
       "              title=\"Convert this dataframe to an interactive table.\"\n",
       "              style=\"display:none;\">\n",
       "        \n",
       "  <svg xmlns=\"http://www.w3.org/2000/svg\" height=\"24px\"viewBox=\"0 0 24 24\"\n",
       "       width=\"24px\">\n",
       "    <path d=\"M0 0h24v24H0V0z\" fill=\"none\"/>\n",
       "    <path d=\"M18.56 5.44l.94 2.06.94-2.06 2.06-.94-2.06-.94-.94-2.06-.94 2.06-2.06.94zm-11 1L8.5 8.5l.94-2.06 2.06-.94-2.06-.94L8.5 2.5l-.94 2.06-2.06.94zm10 10l.94 2.06.94-2.06 2.06-.94-2.06-.94-.94-2.06-.94 2.06-2.06.94z\"/><path d=\"M17.41 7.96l-1.37-1.37c-.4-.4-.92-.59-1.43-.59-.52 0-1.04.2-1.43.59L10.3 9.45l-7.72 7.72c-.78.78-.78 2.05 0 2.83L4 21.41c.39.39.9.59 1.41.59.51 0 1.02-.2 1.41-.59l7.78-7.78 2.81-2.81c.8-.78.8-2.07 0-2.86zM5.41 20L4 18.59l7.72-7.72 1.47 1.35L5.41 20z\"/>\n",
       "  </svg>\n",
       "      </button>\n",
       "      \n",
       "  <style>\n",
       "    .colab-df-container {\n",
       "      display:flex;\n",
       "      flex-wrap:wrap;\n",
       "      gap: 12px;\n",
       "    }\n",
       "\n",
       "    .colab-df-convert {\n",
       "      background-color: #E8F0FE;\n",
       "      border: none;\n",
       "      border-radius: 50%;\n",
       "      cursor: pointer;\n",
       "      display: none;\n",
       "      fill: #1967D2;\n",
       "      height: 32px;\n",
       "      padding: 0 0 0 0;\n",
       "      width: 32px;\n",
       "    }\n",
       "\n",
       "    .colab-df-convert:hover {\n",
       "      background-color: #E2EBFA;\n",
       "      box-shadow: 0px 1px 2px rgba(60, 64, 67, 0.3), 0px 1px 3px 1px rgba(60, 64, 67, 0.15);\n",
       "      fill: #174EA6;\n",
       "    }\n",
       "\n",
       "    [theme=dark] .colab-df-convert {\n",
       "      background-color: #3B4455;\n",
       "      fill: #D2E3FC;\n",
       "    }\n",
       "\n",
       "    [theme=dark] .colab-df-convert:hover {\n",
       "      background-color: #434B5C;\n",
       "      box-shadow: 0px 1px 3px 1px rgba(0, 0, 0, 0.15);\n",
       "      filter: drop-shadow(0px 1px 2px rgba(0, 0, 0, 0.3));\n",
       "      fill: #FFFFFF;\n",
       "    }\n",
       "  </style>\n",
       "\n",
       "      <script>\n",
       "        const buttonEl =\n",
       "          document.querySelector('#df-ff0fee84-5dbf-4279-a1b2-d5b0798641b0 button.colab-df-convert');\n",
       "        buttonEl.style.display =\n",
       "          google.colab.kernel.accessAllowed ? 'block' : 'none';\n",
       "\n",
       "        async function convertToInteractive(key) {\n",
       "          const element = document.querySelector('#df-ff0fee84-5dbf-4279-a1b2-d5b0798641b0');\n",
       "          const dataTable =\n",
       "            await google.colab.kernel.invokeFunction('convertToInteractive',\n",
       "                                                     [key], {});\n",
       "          if (!dataTable) return;\n",
       "\n",
       "          const docLinkHtml = 'Like what you see? Visit the ' +\n",
       "            '<a target=\"_blank\" href=https://colab.research.google.com/notebooks/data_table.ipynb>data table notebook</a>'\n",
       "            + ' to learn more about interactive tables.';\n",
       "          element.innerHTML = '';\n",
       "          dataTable['output_type'] = 'display_data';\n",
       "          await google.colab.output.renderOutput(dataTable, element);\n",
       "          const docLink = document.createElement('div');\n",
       "          docLink.innerHTML = docLinkHtml;\n",
       "          element.appendChild(docLink);\n",
       "        }\n",
       "      </script>\n",
       "    </div>\n",
       "  </div>\n",
       "  "
      ],
      "text/plain": [
       "         id    target\n",
       "0  0000.jpg     horse\n",
       "1  0001.jpg  airplane\n",
       "2  0002.jpg  airplane\n",
       "3  0003.jpg     horse\n",
       "4  0004.jpg      bird"
      ]
     },
     "execution_count": 34,
     "metadata": {},
     "output_type": "execute_result"
    }
   ],
   "source": [
    "sample_submission.head()"
   ]
  },
  {
   "cell_type": "code",
   "execution_count": null,
   "id": "AL-OGTzMZe4A",
   "metadata": {
    "id": "AL-OGTzMZe4A"
   },
   "outputs": [],
   "source": []
  }
 ],
 "metadata": {
  "accelerator": "GPU",
  "colab": {
   "collapsed_sections": [],
   "name": "Main_Code.ipynb",
   "provenance": []
  },
  "kernelspec": {
   "display_name": "Python 3",
   "language": "python",
   "name": "python3"
  },
  "language_info": {
   "codemirror_mode": {
    "name": "ipython",
    "version": 3
   },
   "file_extension": ".py",
   "mimetype": "text/x-python",
   "name": "python",
   "nbconvert_exporter": "python",
   "pygments_lexer": "ipython3",
   "version": "3.8.8"
  }
 },
 "nbformat": 4,
 "nbformat_minor": 5
}
