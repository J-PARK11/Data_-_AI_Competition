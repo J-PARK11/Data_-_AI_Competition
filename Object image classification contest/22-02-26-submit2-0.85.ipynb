{
 "cells": [
  {
   "cell_type": "markdown",
   "id": "850531d5",
   "metadata": {
    "id": "850531d5"
   },
   "source": [
    "# Main Code"
   ]
  },
  {
   "cell_type": "markdown",
   "id": "3ccd51b8",
   "metadata": {
    "id": "3ccd51b8"
   },
   "source": [
    "## 0. Setting"
   ]
  },
  {
   "cell_type": "code",
   "execution_count": 1,
   "id": "3de93074",
   "metadata": {
    "colab": {
     "base_uri": "https://localhost:8080/"
    },
    "executionInfo": {
     "elapsed": 4316,
     "status": "ok",
     "timestamp": 1645841516772,
     "user": {
      "displayName": "박준혁",
      "photoUrl": "https://lh3.googleusercontent.com/a/default-user=s64",
      "userId": "13635420758066693274"
     },
     "user_tz": -540
    },
    "id": "3de93074",
    "outputId": "a120a53a-8f44-4ce6-fe93-650df0f0d341"
   },
   "outputs": [
    {
     "name": "stdout",
     "output_type": "stream",
     "text": [
      "Drive already mounted at /content/drive; to attempt to forcibly remount, call drive.mount(\"/content/drive\", force_remount=True).\n"
     ]
    }
   ],
   "source": [
    "from google.colab import drive\n",
    "drive.mount('/content/drive')"
   ]
  },
  {
   "cell_type": "code",
   "execution_count": 2,
   "id": "692316a7",
   "metadata": {
    "colab": {
     "base_uri": "https://localhost:8080/"
    },
    "executionInfo": {
     "elapsed": 9,
     "status": "ok",
     "timestamp": 1645841516773,
     "user": {
      "displayName": "박준혁",
      "photoUrl": "https://lh3.googleusercontent.com/a/default-user=s64",
      "userId": "13635420758066693274"
     },
     "user_tz": -540
    },
    "id": "692316a7",
    "outputId": "307166d9-4078-4b4a-c33b-fb6d187cb46c"
   },
   "outputs": [
    {
     "name": "stdout",
     "output_type": "stream",
     "text": [
      "/content/drive/MyDrive/object_image\n"
     ]
    }
   ],
   "source": [
    "%cd '/content/drive/MyDrive/object_image'"
   ]
  },
  {
   "cell_type": "code",
   "execution_count": 3,
   "id": "523d6a62",
   "metadata": {
    "colab": {
     "base_uri": "https://localhost:8080/"
    },
    "executionInfo": {
     "elapsed": 979,
     "status": "ok",
     "timestamp": 1645841517747,
     "user": {
      "displayName": "박준혁",
      "photoUrl": "https://lh3.googleusercontent.com/a/default-user=s64",
      "userId": "13635420758066693274"
     },
     "user_tz": -540
    },
    "id": "523d6a62",
    "outputId": "64007097-537a-4829-fd8e-4d10ab55d238"
   },
   "outputs": [
    {
     "name": "stdout",
     "output_type": "stream",
     "text": [
      " data   data.tar.gz  'Main Code.ipynb'\n"
     ]
    }
   ],
   "source": [
    "!ls"
   ]
  },
  {
   "cell_type": "code",
   "execution_count": null,
   "id": "ca386fab",
   "metadata": {
    "id": "ca386fab"
   },
   "outputs": [],
   "source": [
    "#!tar -zcvf data.tar.gz data  "
   ]
  },
  {
   "cell_type": "code",
   "execution_count": null,
   "id": "ET_b_zLjtCDf",
   "metadata": {
    "id": "ET_b_zLjtCDf"
   },
   "outputs": [],
   "source": [
    "#!tar -xzf data.tar.gz"
   ]
  },
  {
   "cell_type": "markdown",
   "id": "9dbff312",
   "metadata": {
    "id": "9dbff312"
   },
   "source": [
    "## 1. Data Load"
   ]
  },
  {
   "cell_type": "code",
   "execution_count": 4,
   "id": "d85f3cd4",
   "metadata": {
    "executionInfo": {
     "elapsed": 6402,
     "status": "ok",
     "timestamp": 1645841527754,
     "user": {
      "displayName": "박준혁",
      "photoUrl": "https://lh3.googleusercontent.com/a/default-user=s64",
      "userId": "13635420758066693274"
     },
     "user_tz": -540
    },
    "id": "d85f3cd4"
   },
   "outputs": [],
   "source": [
    "from glob import glob\n",
    "import os\n",
    "import PIL\n",
    "PIL.Image\n",
    "\n",
    "import numpy as np\n",
    "import pandas as pd\n",
    "import matplotlib\n",
    "import matplotlib.pyplot as plt\n",
    "import seaborn as sns\n",
    "\n",
    "import warnings\n",
    "warnings.filterwarnings(action='ignore') # 경고 메세지 숨김\n",
    "os.environ[\"CUDA_VISIBLE_DEVICES\"]=\"0\" # GPU 할당\n",
    "\n",
    "from sklearn.preprocessing import LabelEncoder\n",
    "from sklearn.model_selection import train_test_split\n",
    "\n",
    "import tensorflow as tf\n",
    "from tensorflow import keras\n",
    "from keras.models import Sequential\n",
    "from keras import layers, models\n",
    "from keras.layers import Dense, Dropout, BatchNormalization\n",
    "from tensorflow.keras.callbacks import ModelCheckpoint, EarlyStopping"
   ]
  },
  {
   "cell_type": "markdown",
   "id": "c9733bdb",
   "metadata": {
    "id": "c9733bdb"
   },
   "source": [
    "### 함수 및 상수 정의"
   ]
  },
  {
   "cell_type": "code",
   "execution_count": 5,
   "id": "ce193f9b",
   "metadata": {
    "executionInfo": {
     "elapsed": 7,
     "status": "ok",
     "timestamp": 1645841527755,
     "user": {
      "displayName": "박준혁",
      "photoUrl": "https://lh3.googleusercontent.com/a/default-user=s64",
      "userId": "13635420758066693274"
     },
     "user_tz": -540
    },
    "id": "ce193f9b"
   },
   "outputs": [],
   "source": [
    "# Data Load fuction Def\n",
    "def load_CIFAR10(path):\n",
    "    \n",
    "    path = path\n",
    "    images = []\n",
    "    labels = []\n",
    "    for filename in glob(path +\"*\"):\n",
    "        for img in glob(filename + \"/*.jpg\"):\n",
    "            an_img = PIL.Image.open(img) #read img\n",
    "            img_array = np.array(an_img) #img to array\n",
    "            images.append(img_array) #append array to training_images\n",
    "            label = filename.split('/')[2] #get label\n",
    "            labels.append(label) #append label\n",
    "    images = np.array(images)\n",
    "    labels = np.array(labels)\n",
    "\n",
    "    le = LabelEncoder()\n",
    "    labels= le.fit_transform(labels)\n",
    "    labels = labels.reshape(-1,1)\n",
    "    \n",
    "    return images, labels, le\n",
    "\n",
    "#create test dataset\n",
    "def load_test(path):\n",
    "    test_images = []\n",
    "    test_idx = []\n",
    "\n",
    "    flist = sorted(glob(path + '*.jpg'))\n",
    "\n",
    "    for filename in flist:\n",
    "        an_img = PIL.Image.open(filename) #read img\n",
    "        img_array = np.array(an_img) #img to array\n",
    "        test_images.append(img_array) #append array to training_images \n",
    "        \n",
    "        label = filename.split('/')[2] #get id \n",
    "        test_idx.append(label) #append id\n",
    "        \n",
    "    test_images = np.array(test_images)\n",
    "\n",
    "    print(test_images.shape)\n",
    "    print(test_idx[0:5])\n",
    "    return test_images\n",
    "\n",
    "# Define image's format\n",
    "class Default:\n",
    "    imgR     = 32\n",
    "    imgC     = 32\n",
    "    channel  = 3\n",
    "    imgCount = 5000\n",
    "    \n",
    "# Visualize Image\n",
    "def plot_images(nRow,nCol,img):\n",
    "    fig = plt.figure()\n",
    "    fig,ax = plt.subplots(nRow,nCol,figsize=(nCol,nRow))\n",
    "    for i in range(nRow):\n",
    "        for j in range(nCol):\n",
    "            if nRow <= 1: axis = ax[j]\n",
    "            else:         axis = ax[i,j]\n",
    "            axis.get_xaxis().set_visible(False)\n",
    "            axis.get_yaxis().set_visible(False)\n",
    "            axis.imshow(img[i*nCol+j])"
   ]
  },
  {
   "cell_type": "code",
   "execution_count": 6,
   "id": "21ed46b5",
   "metadata": {
    "executionInfo": {
     "elapsed": 7,
     "status": "ok",
     "timestamp": 1645841527756,
     "user": {
      "displayName": "박준혁",
      "photoUrl": "https://lh3.googleusercontent.com/a/default-user=s64",
      "userId": "13635420758066693274"
     },
     "user_tz": -540
    },
    "id": "21ed46b5"
   },
   "outputs": [],
   "source": [
    "path = 'data/train/'\n",
    "class_labels = { 0:'airplane', 1:'automobile',2:'bird', 3:'cat', 4:'deer', \n",
    "                5:'dog', 6:'frog', 7:'horse', 8:'ship', 9:'truck'}"
   ]
  },
  {
   "cell_type": "markdown",
   "id": "b9db54a1",
   "metadata": {
    "id": "b9db54a1"
   },
   "source": [
    "### 데이터 불러오기"
   ]
  },
  {
   "cell_type": "code",
   "execution_count": 7,
   "id": "ecaf2aae",
   "metadata": {
    "executionInfo": {
     "elapsed": 176797,
     "status": "ok",
     "timestamp": 1645841708036,
     "user": {
      "displayName": "박준혁",
      "photoUrl": "https://lh3.googleusercontent.com/a/default-user=s64",
      "userId": "13635420758066693274"
     },
     "user_tz": -540
    },
    "id": "ecaf2aae"
   },
   "outputs": [],
   "source": [
    "training_images, training_labels, le = load_CIFAR10(path=path)"
   ]
  },
  {
   "cell_type": "code",
   "execution_count": 8,
   "id": "_QWSveLg06fd",
   "metadata": {
    "colab": {
     "base_uri": "https://localhost:8080/"
    },
    "executionInfo": {
     "elapsed": 175941,
     "status": "ok",
     "timestamp": 1645841896184,
     "user": {
      "displayName": "박준혁",
      "photoUrl": "https://lh3.googleusercontent.com/a/default-user=s64",
      "userId": "13635420758066693274"
     },
     "user_tz": -540
    },
    "id": "_QWSveLg06fd",
    "outputId": "19c07213-ed1b-4848-ba0c-90135d2bcca8"
   },
   "outputs": [
    {
     "name": "stdout",
     "output_type": "stream",
     "text": [
      "(10000, 32, 32, 3)\n",
      "['0000.jpg', '0001.jpg', '0002.jpg', '0003.jpg', '0004.jpg']\n"
     ]
    }
   ],
   "source": [
    "test_images = load_test('data/test/')"
   ]
  },
  {
   "cell_type": "markdown",
   "id": "ea4119bf",
   "metadata": {
    "id": "ea4119bf"
   },
   "source": [
    "## 2. EDA"
   ]
  },
  {
   "cell_type": "code",
   "execution_count": 9,
   "id": "e9c310ad",
   "metadata": {
    "colab": {
     "base_uri": "https://localhost:8080/"
    },
    "executionInfo": {
     "elapsed": 277,
     "status": "ok",
     "timestamp": 1645841912948,
     "user": {
      "displayName": "박준혁",
      "photoUrl": "https://lh3.googleusercontent.com/a/default-user=s64",
      "userId": "13635420758066693274"
     },
     "user_tz": -540
    },
    "id": "e9c310ad",
    "outputId": "23ad9f48-bd89-4018-cda8-f4b9399045ca"
   },
   "outputs": [
    {
     "name": "stdout",
     "output_type": "stream",
     "text": [
      "train 이미지 크기: (50000, 32, 32, 3)\n",
      "train 라벨 크기: (50000, 1)\n",
      "클래스 값: [0 1 2 3 4 5 6 7 8 9]\n"
     ]
    }
   ],
   "source": [
    "print(\"train 이미지 크기:\", training_images.shape)\n",
    "print(\"train 라벨 크기:\", training_labels.shape)\n",
    "print('클래스 값:',np.unique(training_labels))"
   ]
  },
  {
   "cell_type": "code",
   "execution_count": 10,
   "id": "c671b377",
   "metadata": {
    "colab": {
     "base_uri": "https://localhost:8080/",
     "height": 179
    },
    "executionInfo": {
     "elapsed": 1421,
     "status": "ok",
     "timestamp": 1645841918977,
     "user": {
      "displayName": "박준혁",
      "photoUrl": "https://lh3.googleusercontent.com/a/default-user=s64",
      "userId": "13635420758066693274"
     },
     "user_tz": -540
    },
    "id": "c671b377",
    "outputId": "99ea179e-d8b3-4ebf-bf4e-1158ccfc54a3"
   },
   "outputs": [
    {
     "name": "stdout",
     "output_type": "stream",
     "text": [
      "[[0 0 0 0 0 0 0 0 0 0]]\n"
     ]
    },
    {
     "data": {
      "text/plain": [
       "<Figure size 432x288 with 0 Axes>"
      ]
     },
     "metadata": {},
     "output_type": "display_data"
    },
    {
     "data": {
      "image/png": "[encoded data removed]",
      "text/plain": [
       "<Figure size 360x144 with 10 Axes>"
      ]
     },
     "metadata": {
      "needs_background": "light"
     },
     "output_type": "display_data"
    }
   ],
   "source": [
    "plot_images(2,5,training_images[:10])\n",
    "print(training_labels[:10].reshape(1,-1))"
   ]
  },
  {
   "cell_type": "code",
   "execution_count": 11,
   "id": "630fdea0",
   "metadata": {
    "colab": {
     "base_uri": "https://localhost:8080/",
     "height": 289
    },
    "executionInfo": {
     "elapsed": 696,
     "status": "ok",
     "timestamp": 1645841919670,
     "user": {
      "displayName": "박준혁",
      "photoUrl": "https://lh3.googleusercontent.com/a/default-user=s64",
      "userId": "13635420758066693274"
     },
     "user_tz": -540
    },
    "id": "630fdea0",
    "outputId": "76d4d57f-d7af-483d-9e85-9beede70d134"
   },
   "outputs": [
    {
     "data": {
      "image/png": "[encoded data removed]",
      "text/plain": [
       "<Figure size 720x360 with 10 Axes>"
      ]
     },
     "metadata": {},
     "output_type": "display_data"
    }
   ],
   "source": [
    "plt.figure(figsize=[10,5])\n",
    "for i in range(10):\n",
    "    import random\n",
    "    num = random.randint(0,50000)\n",
    "    plt.subplot(2, 5, i + 1)\n",
    "    plt.grid(False)\n",
    "    plt.xticks([])\n",
    "    plt.yticks([])\n",
    "    plt.xlabel(training_labels[num][0])\n",
    "    plt.imshow(training_images[num])\n",
    "plt.show()"
   ]
  },
  {
   "cell_type": "code",
   "execution_count": 12,
   "id": "beabb46f",
   "metadata": {
    "colab": {
     "base_uri": "https://localhost:8080/",
     "height": 350
    },
    "executionInfo": {
     "elapsed": 335,
     "status": "ok",
     "timestamp": 1645841923775,
     "user": {
      "displayName": "박준혁",
      "photoUrl": "https://lh3.googleusercontent.com/a/default-user=s64",
      "userId": "13635420758066693274"
     },
     "user_tz": -540
    },
    "id": "beabb46f",
    "outputId": "e40de0b3-b97f-4f9d-d0bb-79603df3cb82"
   },
   "outputs": [
    {
     "data": {
      "image/png": "[encoded data removed]",
      "text/plain": [
       "<Figure size 720x360 with 1 Axes>"
      ]
     },
     "metadata": {
      "needs_background": "light"
     },
     "output_type": "display_data"
    }
   ],
   "source": [
    "plt.figure(figsize=[10,5])\n",
    "sns.countplot(training_labels.ravel())\n",
    "plt.title('Distribution of training data')\n",
    "plt.xlabel('Classes')\n",
    "plt.show()"
   ]
  },
  {
   "cell_type": "markdown",
   "id": "a56170bb",
   "metadata": {
    "id": "a56170bb"
   },
   "source": [
    "## 3. Data Prepare & Preprocessing"
   ]
  },
  {
   "cell_type": "code",
   "execution_count": 13,
   "id": "IVC48FVtxPcB",
   "metadata": {
    "colab": {
     "base_uri": "https://localhost:8080/"
    },
    "executionInfo": {
     "elapsed": 308,
     "status": "ok",
     "timestamp": 1645841927981,
     "user": {
      "displayName": "박준혁",
      "photoUrl": "https://lh3.googleusercontent.com/a/default-user=s64",
      "userId": "13635420758066693274"
     },
     "user_tz": -540
    },
    "id": "IVC48FVtxPcB",
    "outputId": "47f37f3d-c3d6-4d69-c35f-ec0feba41294"
   },
   "outputs": [
    {
     "data": {
      "text/plain": [
       "array([10935, 21495,  7825, ..., 48146, 35577, 45294])"
      ]
     },
     "execution_count": 13,
     "metadata": {},
     "output_type": "execute_result"
    }
   ],
   "source": [
    "idx = np.arange(training_images.shape[0])\n",
    "np.random.shuffle(idx)\n",
    "training_images = training_images[idx]\n",
    "training_labels = training_labels[idx]\n",
    "idx"
   ]
  },
  {
   "cell_type": "code",
   "execution_count": 14,
   "id": "b3106b9c",
   "metadata": {
    "executionInfo": {
     "elapsed": 2,
     "status": "ok",
     "timestamp": 1645841928420,
     "user": {
      "displayName": "박준혁",
      "photoUrl": "https://lh3.googleusercontent.com/a/default-user=s64",
      "userId": "13635420758066693274"
     },
     "user_tz": -540
    },
    "id": "b3106b9c"
   },
   "outputs": [],
   "source": [
    "X_train, X_valid, y_train, y_valid = train_test_split(training_images, training_labels, test_size=0.2, random_state=42)\n",
    "X_test = test_images"
   ]
  },
  {
   "cell_type": "code",
   "execution_count": 15,
   "id": "215fcd67",
   "metadata": {
    "colab": {
     "base_uri": "https://localhost:8080/"
    },
    "executionInfo": {
     "elapsed": 6,
     "status": "ok",
     "timestamp": 1645841928736,
     "user": {
      "displayName": "박준혁",
      "photoUrl": "https://lh3.googleusercontent.com/a/default-user=s64",
      "userId": "13635420758066693274"
     },
     "user_tz": -540
    },
    "id": "215fcd67",
    "outputId": "5fbe6cfa-5b80-4221-b827-7e9bc992c70a"
   },
   "outputs": [
    {
     "name": "stdout",
     "output_type": "stream",
     "text": [
      "X_train 크기: (40000, 32, 32, 3)\n",
      "X_valid 크기: (10000, 32, 32, 3)\n",
      "X_test 크기: (10000, 32, 32, 3)\n"
     ]
    }
   ],
   "source": [
    "print('X_train 크기:',X_train.shape)\n",
    "print('X_valid 크기:',X_valid.shape)\n",
    "print('X_test 크기:',X_test.shape)"
   ]
  },
  {
   "cell_type": "code",
   "execution_count": 16,
   "id": "fabca9f6",
   "metadata": {
    "executionInfo": {
     "elapsed": 1042,
     "status": "ok",
     "timestamp": 1645841930075,
     "user": {
      "displayName": "박준혁",
      "photoUrl": "https://lh3.googleusercontent.com/a/default-user=s64",
      "userId": "13635420758066693274"
     },
     "user_tz": -540
    },
    "id": "fabca9f6"
   },
   "outputs": [],
   "source": [
    "X_train = X_train / 255.0\n",
    "X_valid = X_valid / 255.0\n",
    "X_test = X_test / 255.0"
   ]
  },
  {
   "cell_type": "markdown",
   "id": "b35bfe13",
   "metadata": {
    "id": "b35bfe13"
   },
   "source": [
    "## 4. CNN Model Design"
   ]
  },
  {
   "cell_type": "code",
   "execution_count": 54,
   "id": "4bff6f82",
   "metadata": {
    "executionInfo": {
     "elapsed": 985,
     "status": "ok",
     "timestamp": 1645850299995,
     "user": {
      "displayName": "박준혁",
      "photoUrl": "https://lh3.googleusercontent.com/a/default-user=s64",
      "userId": "13635420758066693274"
     },
     "user_tz": -540
    },
    "id": "4bff6f82"
   },
   "outputs": [],
   "source": [
    "# CNN 인공신경망 정의\n",
    "def create_model():\n",
    "    model = Sequential()\n",
    "\n",
    "    model.add(layers.Conv2D(64, (5,5), padding='same', activation='relu', input_shape=(32,32,3)))\n",
    "    model.add(layers.BatchNormalization())\n",
    "    model.add(layers.Conv2D(64, (3,3), padding='same', activation='relu'))\n",
    "    model.add(layers.BatchNormalization())\n",
    "    model.add(layers.MaxPooling2D(pool_size=(2,2)))\n",
    "    model.add(layers.Dropout(0.3))\n",
    "\n",
    "    model.add(layers.Conv2D(128, (3,3), padding='same', activation='relu'))\n",
    "    model.add(layers.BatchNormalization())\n",
    "    model.add(layers.Conv2D(128, (3,3), padding='same', activation='relu'))\n",
    "    model.add(layers.BatchNormalization())\n",
    "    model.add(layers.MaxPooling2D(pool_size=(2,2)))\n",
    "    model.add(layers.Dropout(0.3))\n",
    "\n",
    "    model.add(layers.Conv2D(256, (3,3), padding='same', activation='relu'))\n",
    "    model.add(layers.BatchNormalization())\n",
    "    model.add(layers.Dropout(0.4))\n",
    "    model.add(layers.Conv2D(256, (3,3), padding='same', activation='relu'))\n",
    "    model.add(layers.BatchNormalization())\n",
    "    model.add(layers.MaxPooling2D(pool_size=(2,2)))\n",
    "    model.add(layers.Dropout(0.4))\n",
    "\n",
    "    model.add(layers.Conv2D(512, (3,3), padding='same', activation='relu'))\n",
    "    model.add(layers.BatchNormalization())\n",
    "    model.add(layers.Dropout(0.4))\n",
    "    model.add(layers.Conv2D(512, (3,3), padding='same', activation='relu'))\n",
    "    model.add(layers.BatchNormalization())\n",
    "    model.add(layers.MaxPooling2D(pool_size=(2,2)))\n",
    "    model.add(layers.Dropout(0.4))\n",
    "\n",
    "    model.add(layers.GlobalAveragePooling2D())\n",
    "    model.add(layers.Dense(256, kernel_regularizer='l2', activation='relu', kernel_initializer=tf.keras.initializers.GlorotNormal()))\n",
    "    model.add(layers.BatchNormalization())\n",
    "    model.add(layers.Dropout(0.3))\n",
    "    model.add(layers.Dense(10, activation='softmax'))\n",
    "\n",
    "    model.compile(optimizer='adam', \n",
    "                  loss='sparse_categorical_crossentropy', \n",
    "                  metrics=['accuracy'])\n",
    "    \n",
    "    return model"
   ]
  },
  {
   "cell_type": "code",
   "execution_count": 55,
   "id": "73ecc6fd",
   "metadata": {
    "executionInfo": {
     "elapsed": 256,
     "status": "ok",
     "timestamp": 1645850303034,
     "user": {
      "displayName": "박준혁",
      "photoUrl": "https://lh3.googleusercontent.com/a/default-user=s64",
      "userId": "13635420758066693274"
     },
     "user_tz": -540
    },
    "id": "73ecc6fd"
   },
   "outputs": [],
   "source": [
    "# 가중치 정보 저장 경로\n",
    "checkpoint_dir = path+'Training_checkpoint/'\n",
    "checkpoint_path = checkpoint_dir + 'cp-{epoch:04d}-{val_loss:.2f}.ckpt'\n",
    "\n",
    "# 5번 에포크씩 val_loss 변화 확인- 변화 없을 시 학습 중단\n",
    "early_stopping = EarlyStopping(monitor='val_loss', patience=10)\n",
    "cp = ModelCheckpoint(filepath=checkpoint_path, verbose=1,\n",
    "                     save_weights_only=True,\n",
    "                     save_best_only=True)"
   ]
  },
  {
   "cell_type": "code",
   "execution_count": null,
   "id": "1a5ad45f",
   "metadata": {
    "id": "1a5ad45f"
   },
   "outputs": [],
   "source": [
    "model = create_model()\n",
    "# Checking the model summary\n",
    "model.summary()"
   ]
  },
  {
   "cell_type": "code",
   "execution_count": null,
   "id": "f908b3cb",
   "metadata": {
    "id": "f908b3cb"
   },
   "outputs": [],
   "source": [
    "# !rm -rf Training_checkpoint/ # 가중치 저장 파일 전체 삭제"
   ]
  },
  {
   "cell_type": "code",
   "execution_count": 57,
   "id": "119e2683",
   "metadata": {
    "colab": {
     "base_uri": "https://localhost:8080/"
    },
    "executionInfo": {
     "elapsed": 1216743,
     "status": "ok",
     "timestamp": 1645851529240,
     "user": {
      "displayName": "박준혁",
      "photoUrl": "https://lh3.googleusercontent.com/a/default-user=s64",
      "userId": "13635420758066693274"
     },
     "user_tz": -540
    },
    "id": "119e2683",
    "outputId": "a9a7fdf2-bf2c-417f-b43a-6fc269deaddc"
   },
   "outputs": [
    {
     "name": "stdout",
     "output_type": "stream",
     "text": [
      "\n",
      "Epoch 1: val_loss improved from inf to 3.35355, saving model to data/train/Training_checkpoint/cp-0001-3.35.ckpt\n",
      "\n",
      "Epoch 2: val_loss improved from 3.35355 to 1.82368, saving model to data/train/Training_checkpoint/cp-0002-1.82.ckpt\n",
      "\n",
      "Epoch 3: val_loss improved from 1.82368 to 1.56776, saving model to data/train/Training_checkpoint/cp-0003-1.57.ckpt\n",
      "\n",
      "Epoch 4: val_loss improved from 1.56776 to 0.88939, saving model to data/train/Training_checkpoint/cp-0004-0.89.ckpt\n",
      "\n",
      "Epoch 5: val_loss did not improve from 0.88939\n",
      "\n",
      "Epoch 6: val_loss improved from 0.88939 to 0.81740, saving model to data/train/Training_checkpoint/cp-0006-0.82.ckpt\n",
      "\n",
      "Epoch 7: val_loss did not improve from 0.81740\n",
      "\n",
      "Epoch 8: val_loss did not improve from 0.81740\n",
      "\n",
      "Epoch 9: val_loss did not improve from 0.81740\n",
      "\n",
      "Epoch 10: val_loss improved from 0.81740 to 0.76191, saving model to data/train/Training_checkpoint/cp-0010-0.76.ckpt\n",
      "\n",
      "Epoch 11: val_loss did not improve from 0.76191\n",
      "\n",
      "Epoch 12: val_loss improved from 0.76191 to 0.72682, saving model to data/train/Training_checkpoint/cp-0012-0.73.ckpt\n",
      "\n",
      "Epoch 13: val_loss did not improve from 0.72682\n",
      "\n",
      "Epoch 14: val_loss did not improve from 0.72682\n",
      "\n",
      "Epoch 15: val_loss improved from 0.72682 to 0.63887, saving model to data/train/Training_checkpoint/cp-0015-0.64.ckpt\n",
      "\n",
      "Epoch 16: val_loss improved from 0.63887 to 0.62359, saving model to data/train/Training_checkpoint/cp-0016-0.62.ckpt\n",
      "\n",
      "Epoch 17: val_loss did not improve from 0.62359\n",
      "\n",
      "Epoch 18: val_loss did not improve from 0.62359\n",
      "\n",
      "Epoch 19: val_loss did not improve from 0.62359\n",
      "\n",
      "Epoch 20: val_loss did not improve from 0.62359\n",
      "\n",
      "Epoch 21: val_loss did not improve from 0.62359\n",
      "\n",
      "Epoch 22: val_loss did not improve from 0.62359\n",
      "\n",
      "Epoch 23: val_loss did not improve from 0.62359\n",
      "\n",
      "Epoch 24: val_loss did not improve from 0.62359\n",
      "\n",
      "Epoch 25: val_loss did not improve from 0.62359\n",
      "\n",
      "Epoch 26: val_loss improved from 0.62359 to 0.60905, saving model to data/train/Training_checkpoint/cp-0026-0.61.ckpt\n",
      "\n",
      "Epoch 27: val_loss did not improve from 0.60905\n",
      "\n",
      "Epoch 28: val_loss did not improve from 0.60905\n",
      "\n",
      "Epoch 29: val_loss did not improve from 0.60905\n",
      "\n",
      "Epoch 30: val_loss did not improve from 0.60905\n",
      "\n",
      "Epoch 31: val_loss improved from 0.60905 to 0.60788, saving model to data/train/Training_checkpoint/cp-0031-0.61.ckpt\n",
      "\n",
      "Epoch 32: val_loss did not improve from 0.60788\n",
      "\n",
      "Epoch 33: val_loss did not improve from 0.60788\n",
      "\n",
      "Epoch 34: val_loss did not improve from 0.60788\n",
      "\n",
      "Epoch 35: val_loss did not improve from 0.60788\n",
      "\n",
      "Epoch 36: val_loss did not improve from 0.60788\n",
      "\n",
      "Epoch 37: val_loss did not improve from 0.60788\n",
      "\n",
      "Epoch 38: val_loss did not improve from 0.60788\n",
      "\n",
      "Epoch 39: val_loss did not improve from 0.60788\n",
      "\n",
      "Epoch 40: val_loss did not improve from 0.60788\n",
      "\n",
      "Epoch 41: val_loss did not improve from 0.60788\n"
     ]
    }
   ],
   "source": [
    "history = model.fit(X_train, y_train, batch_size=128, epochs=500,\n",
    "                    callbacks=[early_stopping, cp],\n",
    "                    validation_data = (X_valid,y_valid), verbose=0)"
   ]
  },
  {
   "cell_type": "markdown",
   "id": "wPpDRCeFyFfd",
   "metadata": {
    "id": "wPpDRCeFyFfd"
   },
   "source": [
    "## 5. Learning Curve"
   ]
  },
  {
   "cell_type": "code",
   "execution_count": 58,
   "id": "318c88c0",
   "metadata": {
    "colab": {
     "base_uri": "https://localhost:8080/",
     "height": 313
    },
    "executionInfo": {
     "elapsed": 885,
     "status": "ok",
     "timestamp": 1645851539113,
     "user": {
      "displayName": "박준혁",
      "photoUrl": "https://lh3.googleusercontent.com/a/default-user=s64",
      "userId": "13635420758066693274"
     },
     "user_tz": -540
    },
    "id": "318c88c0",
    "outputId": "9c0aa7be-4806-49c9-c66e-07c1fb267bc9"
   },
   "outputs": [
    {
     "data": {
      "text/plain": [
       "Text(0.5, 1.0, 'Loss Curves')"
      ]
     },
     "execution_count": 58,
     "metadata": {},
     "output_type": "execute_result"
    },
    {
     "data": {
      "image/png": "[encoded data removed]",
      "text/plain": [
       "<Figure size 432x288 with 1 Axes>"
      ]
     },
     "metadata": {
      "needs_background": "light"
     },
     "output_type": "display_data"
    }
   ],
   "source": [
    "# Loss curve\n",
    "plt.figure(figsize=[6,4])\n",
    "plt.plot(history.history['loss'], 'black', linewidth=2.0)\n",
    "plt.plot(history.history['val_loss'], 'green', linewidth=2.0)\n",
    "plt.legend(['Training Loss', 'Validation Loss'], fontsize=14)\n",
    "plt.xlabel('Epochs', fontsize=10)\n",
    "plt.ylabel('Loss', fontsize=10)\n",
    "plt.title('Loss Curves', fontsize=12)"
   ]
  },
  {
   "cell_type": "code",
   "execution_count": 59,
   "id": "ce253c69",
   "metadata": {
    "colab": {
     "base_uri": "https://localhost:8080/",
     "height": 313
    },
    "executionInfo": {
     "elapsed": 774,
     "status": "ok",
     "timestamp": 1645851539848,
     "user": {
      "displayName": "박준혁",
      "photoUrl": "https://lh3.googleusercontent.com/a/default-user=s64",
      "userId": "13635420758066693274"
     },
     "user_tz": -540
    },
    "id": "ce253c69",
    "outputId": "9366b7f6-8533-43c0-a052-ecfa2a221949"
   },
   "outputs": [
    {
     "data": {
      "text/plain": [
       "Text(0.5, 1.0, 'Accuracy Curves')"
      ]
     },
     "execution_count": 59,
     "metadata": {},
     "output_type": "execute_result"
    },
    {
     "data": {
      "image/png": "[encoded data removed]",
      "text/plain": [
       "<Figure size 432x288 with 1 Axes>"
      ]
     },
     "metadata": {
      "needs_background": "light"
     },
     "output_type": "display_data"
    }
   ],
   "source": [
    "# Accuracy curve\n",
    "plt.figure(figsize=[6,4])\n",
    "plt.plot(history.history['accuracy'], 'black', linewidth=2.0)\n",
    "plt.plot(history.history['val_accuracy'], 'blue', linewidth=2.0)\n",
    "plt.legend(['Training Accuracy', 'Validation Accuracy'], fontsize=14)\n",
    "plt.xlabel('Epochs', fontsize=10)\n",
    "plt.ylabel('Accuracy', fontsize=10)\n",
    "plt.title('Accuracy Curves', fontsize=12)"
   ]
  },
  {
   "cell_type": "markdown",
   "id": "13fgAPbDyRVR",
   "metadata": {
    "id": "13fgAPbDyRVR"
   },
   "source": [
    "## 6. Saving Model"
   ]
  },
  {
   "cell_type": "code",
   "execution_count": null,
   "id": "fc9e1f35",
   "metadata": {
    "id": "fc9e1f35"
   },
   "outputs": [],
   "source": [
    "# 모델 저장\n",
    "model.save('save/savedModel/')"
   ]
  },
  {
   "cell_type": "code",
   "execution_count": null,
   "id": "9eb0028d",
   "metadata": {
    "id": "9eb0028d"
   },
   "outputs": [],
   "source": [
    "# history 파일로 저장\n",
    "history_df = pd.DataFrame(history.history)\n",
    "\n",
    "with open('save/history.csv', mode='w') as hist_file:\n",
    "    history_df.to_csv(hist_file)"
   ]
  },
  {
   "cell_type": "markdown",
   "id": "XwmIalhuyZrI",
   "metadata": {
    "id": "XwmIalhuyZrI"
   },
   "source": [
    "## 7. Prediction Performance"
   ]
  },
  {
   "cell_type": "code",
   "execution_count": 60,
   "id": "xHxD2qHNyaES",
   "metadata": {
    "colab": {
     "base_uri": "https://localhost:8080/"
    },
    "executionInfo": {
     "elapsed": 5695,
     "status": "ok",
     "timestamp": 1645851573817,
     "user": {
      "displayName": "박준혁",
      "photoUrl": "https://lh3.googleusercontent.com/a/default-user=s64",
      "userId": "13635420758066693274"
     },
     "user_tz": -540
    },
    "id": "xHxD2qHNyaES",
    "outputId": "c249788f-704d-4601-a0df-ff516ccecd04"
   },
   "outputs": [
    {
     "data": {
      "text/plain": [
       "array(['horse', 'airplane', 'airplane', 'cat', 'airplane'], dtype='<U10')"
      ]
     },
     "execution_count": 60,
     "metadata": {},
     "output_type": "execute_result"
    }
   ],
   "source": [
    "pred_proba = model.predict(X_test) \n",
    "\n",
    "pred_class = []\n",
    "\n",
    "for i in pred_proba:\n",
    "    pred = np.argmax(i)\n",
    "    pred_class.append(pred)\n",
    "\n",
    "pred_class = le.inverse_transform(pred_class)\n",
    "pred_class[0:5]"
   ]
  },
  {
   "cell_type": "code",
   "execution_count": 61,
   "id": "xkiBFleryaL-",
   "metadata": {
    "executionInfo": {
     "elapsed": 66,
     "status": "ok",
     "timestamp": 1645851573825,
     "user": {
      "displayName": "박준혁",
      "photoUrl": "https://lh3.googleusercontent.com/a/default-user=s64",
      "userId": "13635420758066693274"
     },
     "user_tz": -540
    },
    "id": "xkiBFleryaL-"
   },
   "outputs": [],
   "source": [
    "sample_submission = pd.read_csv(\"./data/sample_submission.csv\")\n",
    "\n",
    "sample_submission.target = pred_class\n",
    "sample_submission.to_csv(\"submit2.csv\",index=False)"
   ]
  },
  {
   "cell_type": "code",
   "execution_count": 62,
   "id": "zecQETlpyaPi",
   "metadata": {
    "colab": {
     "base_uri": "https://localhost:8080/",
     "height": 206
    },
    "executionInfo": {
     "elapsed": 70,
     "status": "ok",
     "timestamp": 1645851573832,
     "user": {
      "displayName": "박준혁",
      "photoUrl": "https://lh3.googleusercontent.com/a/default-user=s64",
      "userId": "13635420758066693274"
     },
     "user_tz": -540
    },
    "id": "zecQETlpyaPi",
    "outputId": "5d1c5a5e-adb7-4357-9eef-ab62d26f4cf3"
   },
   "outputs": [
    {
     "data": {
      "text/html": [
       "\n",
       "  <div id=\"df-8aeb6984-db4a-4139-9946-4c636c3056b6\">\n",
       "    <div class=\"colab-df-container\">\n",
       "      <div>\n",
       "<style scoped>\n",
       "    .dataframe tbody tr th:only-of-type {\n",
       "        vertical-align: middle;\n",
       "    }\n",
       "\n",
       "    .dataframe tbody tr th {\n",
       "        vertical-align: top;\n",
       "    }\n",
       "\n",
       "    .dataframe thead th {\n",
       "        text-align: right;\n",
       "    }\n",
       "</style>\n",
       "<table border=\"1\" class=\"dataframe\">\n",
       "  <thead>\n",
       "    <tr style=\"text-align: right;\">\n",
       "      <th></th>\n",
       "      <th>id</th>\n",
       "      <th>target</th>\n",
       "    </tr>\n",
       "  </thead>\n",
       "  <tbody>\n",
       "    <tr>\n",
       "      <th>0</th>\n",
       "      <td>0000.jpg</td>\n",
       "      <td>horse</td>\n",
       "    </tr>\n",
       "    <tr>\n",
       "      <th>1</th>\n",
       "      <td>0001.jpg</td>\n",
       "      <td>airplane</td>\n",
       "    </tr>\n",
       "    <tr>\n",
       "      <th>2</th>\n",
       "      <td>0002.jpg</td>\n",
       "      <td>airplane</td>\n",
       "    </tr>\n",
       "    <tr>\n",
       "      <th>3</th>\n",
       "      <td>0003.jpg</td>\n",
       "      <td>cat</td>\n",
       "    </tr>\n",
       "    <tr>\n",
       "      <th>4</th>\n",
       "      <td>0004.jpg</td>\n",
       "      <td>airplane</td>\n",
       "    </tr>\n",
       "  </tbody>\n",
       "</table>\n",
       "</div>\n",
       "      <button class=\"colab-df-convert\" onclick=\"convertToInteractive('df-8aeb6984-db4a-4139-9946-4c636c3056b6')\"\n",
       "              title=\"Convert this dataframe to an interactive table.\"\n",
       "              style=\"display:none;\">\n",
       "        \n",
       "  <svg xmlns=\"http://www.w3.org/2000/svg\" height=\"24px\"viewBox=\"0 0 24 24\"\n",
       "       width=\"24px\">\n",
       "    <path d=\"M0 0h24v24H0V0z\" fill=\"none\"/>\n",
       "    <path d=\"M18.56 5.44l.94 2.06.94-2.06 2.06-.94-2.06-.94-.94-2.06-.94 2.06-2.06.94zm-11 1L8.5 8.5l.94-2.06 2.06-.94-2.06-.94L8.5 2.5l-.94 2.06-2.06.94zm10 10l.94 2.06.94-2.06 2.06-.94-2.06-.94-.94-2.06-.94 2.06-2.06.94z\"/><path d=\"M17.41 7.96l-1.37-1.37c-.4-.4-.92-.59-1.43-.59-.52 0-1.04.2-1.43.59L10.3 9.45l-7.72 7.72c-.78.78-.78 2.05 0 2.83L4 21.41c.39.39.9.59 1.41.59.51 0 1.02-.2 1.41-.59l7.78-7.78 2.81-2.81c.8-.78.8-2.07 0-2.86zM5.41 20L4 18.59l7.72-7.72 1.47 1.35L5.41 20z\"/>\n",
       "  </svg>\n",
       "      </button>\n",
       "      \n",
       "  <style>\n",
       "    .colab-df-container {\n",
       "      display:flex;\n",
       "      flex-wrap:wrap;\n",
       "      gap: 12px;\n",
       "    }\n",
       "\n",
       "    .colab-df-convert {\n",
       "      background-color: #E8F0FE;\n",
       "      border: none;\n",
       "      border-radius: 50%;\n",
       "      cursor: pointer;\n",
       "      display: none;\n",
       "      fill: #1967D2;\n",
       "      height: 32px;\n",
       "      padding: 0 0 0 0;\n",
       "      width: 32px;\n",
       "    }\n",
       "\n",
       "    .colab-df-convert:hover {\n",
       "      background-color: #E2EBFA;\n",
       "      box-shadow: 0px 1px 2px rgba(60, 64, 67, 0.3), 0px 1px 3px 1px rgba(60, 64, 67, 0.15);\n",
       "      fill: #174EA6;\n",
       "    }\n",
       "\n",
       "    [theme=dark] .colab-df-convert {\n",
       "      background-color: #3B4455;\n",
       "      fill: #D2E3FC;\n",
       "    }\n",
       "\n",
       "    [theme=dark] .colab-df-convert:hover {\n",
       "      background-color: #434B5C;\n",
       "      box-shadow: 0px 1px 3px 1px rgba(0, 0, 0, 0.15);\n",
       "      filter: drop-shadow(0px 1px 2px rgba(0, 0, 0, 0.3));\n",
       "      fill: #FFFFFF;\n",
       "    }\n",
       "  </style>\n",
       "\n",
       "      <script>\n",
       "        const buttonEl =\n",
       "          document.querySelector('#df-8aeb6984-db4a-4139-9946-4c636c3056b6 button.colab-df-convert');\n",
       "        buttonEl.style.display =\n",
       "          google.colab.kernel.accessAllowed ? 'block' : 'none';\n",
       "\n",
       "        async function convertToInteractive(key) {\n",
       "          const element = document.querySelector('#df-8aeb6984-db4a-4139-9946-4c636c3056b6');\n",
       "          const dataTable =\n",
       "            await google.colab.kernel.invokeFunction('convertToInteractive',\n",
       "                                                     [key], {});\n",
       "          if (!dataTable) return;\n",
       "\n",
       "          const docLinkHtml = 'Like what you see? Visit the ' +\n",
       "            '<a target=\"_blank\" href=https://colab.research.google.com/notebooks/data_table.ipynb>data table notebook</a>'\n",
       "            + ' to learn more about interactive tables.';\n",
       "          element.innerHTML = '';\n",
       "          dataTable['output_type'] = 'display_data';\n",
       "          await google.colab.output.renderOutput(dataTable, element);\n",
       "          const docLink = document.createElement('div');\n",
       "          docLink.innerHTML = docLinkHtml;\n",
       "          element.appendChild(docLink);\n",
       "        }\n",
       "      </script>\n",
       "    </div>\n",
       "  </div>\n",
       "  "
      ],
      "text/plain": [
       "         id    target\n",
       "0  0000.jpg     horse\n",
       "1  0001.jpg  airplane\n",
       "2  0002.jpg  airplane\n",
       "3  0003.jpg       cat\n",
       "4  0004.jpg  airplane"
      ]
     },
     "execution_count": 62,
     "metadata": {},
     "output_type": "execute_result"
    }
   ],
   "source": [
    "sample_submission.head()"
   ]
  }
 ],
 "metadata": {
  "accelerator": "GPU",
  "colab": {
   "collapsed_sections": [],
   "name": "Main Code.ipynb",
   "provenance": []
  },
  "kernelspec": {
   "display_name": "Python 3",
   "language": "python",
   "name": "python3"
  },
  "language_info": {
   "codemirror_mode": {
    "name": "ipython",
    "version": 3
   },
   "file_extension": ".py",
   "mimetype": "text/x-python",
   "name": "python",
   "nbconvert_exporter": "python",
   "pygments_lexer": "ipython3",
   "version": "3.8.8"
  }
 },
 "nbformat": 4,
 "nbformat_minor": 5
}
